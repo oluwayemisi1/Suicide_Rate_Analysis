{
 "cells": [
  {
   "cell_type": "markdown",
   "id": "247b14a9",
   "metadata": {},
   "source": [
    "# Analysis on World suicide rate in the year 1987 to 2016"
   ]
  },
  {
   "cell_type": "code",
   "execution_count": 65,
   "id": "cd3dafbd",
   "metadata": {},
   "outputs": [],
   "source": [
    "import numpy as np\n",
    "import pandas as pd\n",
    "import matplotlib.pyplot as plt\n",
    "%matplotlib inline"
   ]
  },
  {
   "cell_type": "code",
   "execution_count": 62,
   "id": "130a3058",
   "metadata": {},
   "outputs": [],
   "source": [
    "df = pd.read_csv(r\"C:\\Users\\HPUSER\\Documents\\datasets\\datasets\\master.csv\")"
   ]
  },
  {
   "cell_type": "code",
   "execution_count": 63,
   "id": "0191dda4",
   "metadata": {},
   "outputs": [
    {
     "data": {
      "text/html": [
       "<div>\n",
       "<style scoped>\n",
       "    .dataframe tbody tr th:only-of-type {\n",
       "        vertical-align: middle;\n",
       "    }\n",
       "\n",
       "    .dataframe tbody tr th {\n",
       "        vertical-align: top;\n",
       "    }\n",
       "\n",
       "    .dataframe thead th {\n",
       "        text-align: right;\n",
       "    }\n",
       "</style>\n",
       "<table border=\"1\" class=\"dataframe\">\n",
       "  <thead>\n",
       "    <tr style=\"text-align: right;\">\n",
       "      <th></th>\n",
       "      <th>country</th>\n",
       "      <th>year</th>\n",
       "      <th>sex</th>\n",
       "      <th>age</th>\n",
       "      <th>suicides_no</th>\n",
       "      <th>population</th>\n",
       "      <th>suicides/100k pop</th>\n",
       "      <th>country-year</th>\n",
       "      <th>HDI for year</th>\n",
       "      <th>gdp_for_year ($)</th>\n",
       "      <th>gdp_per_capita ($)</th>\n",
       "      <th>generation</th>\n",
       "    </tr>\n",
       "  </thead>\n",
       "  <tbody>\n",
       "    <tr>\n",
       "      <th>0</th>\n",
       "      <td>Albania</td>\n",
       "      <td>1987</td>\n",
       "      <td>male</td>\n",
       "      <td>15-24 years</td>\n",
       "      <td>21</td>\n",
       "      <td>312900</td>\n",
       "      <td>6.71</td>\n",
       "      <td>Albania1987</td>\n",
       "      <td>NaN</td>\n",
       "      <td>2,156,624,900</td>\n",
       "      <td>796</td>\n",
       "      <td>Generation X</td>\n",
       "    </tr>\n",
       "    <tr>\n",
       "      <th>1</th>\n",
       "      <td>Albania</td>\n",
       "      <td>1987</td>\n",
       "      <td>male</td>\n",
       "      <td>35-54 years</td>\n",
       "      <td>16</td>\n",
       "      <td>308000</td>\n",
       "      <td>5.19</td>\n",
       "      <td>Albania1987</td>\n",
       "      <td>NaN</td>\n",
       "      <td>2,156,624,900</td>\n",
       "      <td>796</td>\n",
       "      <td>Silent</td>\n",
       "    </tr>\n",
       "    <tr>\n",
       "      <th>2</th>\n",
       "      <td>Albania</td>\n",
       "      <td>1987</td>\n",
       "      <td>female</td>\n",
       "      <td>15-24 years</td>\n",
       "      <td>14</td>\n",
       "      <td>289700</td>\n",
       "      <td>4.83</td>\n",
       "      <td>Albania1987</td>\n",
       "      <td>NaN</td>\n",
       "      <td>2,156,624,900</td>\n",
       "      <td>796</td>\n",
       "      <td>Generation X</td>\n",
       "    </tr>\n",
       "    <tr>\n",
       "      <th>3</th>\n",
       "      <td>Albania</td>\n",
       "      <td>1987</td>\n",
       "      <td>male</td>\n",
       "      <td>75+ years</td>\n",
       "      <td>1</td>\n",
       "      <td>21800</td>\n",
       "      <td>4.59</td>\n",
       "      <td>Albania1987</td>\n",
       "      <td>NaN</td>\n",
       "      <td>2,156,624,900</td>\n",
       "      <td>796</td>\n",
       "      <td>G.I. Generation</td>\n",
       "    </tr>\n",
       "    <tr>\n",
       "      <th>4</th>\n",
       "      <td>Albania</td>\n",
       "      <td>1987</td>\n",
       "      <td>male</td>\n",
       "      <td>25-34 years</td>\n",
       "      <td>9</td>\n",
       "      <td>274300</td>\n",
       "      <td>3.28</td>\n",
       "      <td>Albania1987</td>\n",
       "      <td>NaN</td>\n",
       "      <td>2,156,624,900</td>\n",
       "      <td>796</td>\n",
       "      <td>Boomers</td>\n",
       "    </tr>\n",
       "  </tbody>\n",
       "</table>\n",
       "</div>"
      ],
      "text/plain": [
       "   country  year     sex          age  suicides_no  population  \\\n",
       "0  Albania  1987    male  15-24 years           21      312900   \n",
       "1  Albania  1987    male  35-54 years           16      308000   \n",
       "2  Albania  1987  female  15-24 years           14      289700   \n",
       "3  Albania  1987    male    75+ years            1       21800   \n",
       "4  Albania  1987    male  25-34 years            9      274300   \n",
       "\n",
       "   suicides/100k pop country-year  HDI for year  gdp_for_year ($)   \\\n",
       "0               6.71  Albania1987           NaN      2,156,624,900   \n",
       "1               5.19  Albania1987           NaN      2,156,624,900   \n",
       "2               4.83  Albania1987           NaN      2,156,624,900   \n",
       "3               4.59  Albania1987           NaN      2,156,624,900   \n",
       "4               3.28  Albania1987           NaN      2,156,624,900   \n",
       "\n",
       "   gdp_per_capita ($)       generation  \n",
       "0                 796     Generation X  \n",
       "1                 796           Silent  \n",
       "2                 796     Generation X  \n",
       "3                 796  G.I. Generation  \n",
       "4                 796          Boomers  "
      ]
     },
     "execution_count": 63,
     "metadata": {},
     "output_type": "execute_result"
    }
   ],
   "source": [
    "df.head()"
   ]
  },
  {
   "cell_type": "markdown",
   "id": "fdeb2dcc",
   "metadata": {},
   "source": [
    "Renaming the Column names"
   ]
  },
  {
   "cell_type": "code",
   "execution_count": 64,
   "id": "97b1836b",
   "metadata": {},
   "outputs": [],
   "source": [
    "df.rename(columns = {\"suicides/100k pop\":\"suicides_pop\", \"HDI for year\":\"HDI_for_year\",' gdp_for_year ($) ': 'gdp_for_year' , \"gdp_per_capita ($)\":\"GDP_per_capital\"},inplace = True)"
   ]
  },
  {
   "cell_type": "code",
   "execution_count": 7,
   "id": "e0beb7d8",
   "metadata": {},
   "outputs": [
    {
     "data": {
      "text/html": [
       "<div>\n",
       "<style scoped>\n",
       "    .dataframe tbody tr th:only-of-type {\n",
       "        vertical-align: middle;\n",
       "    }\n",
       "\n",
       "    .dataframe tbody tr th {\n",
       "        vertical-align: top;\n",
       "    }\n",
       "\n",
       "    .dataframe thead th {\n",
       "        text-align: right;\n",
       "    }\n",
       "</style>\n",
       "<table border=\"1\" class=\"dataframe\">\n",
       "  <thead>\n",
       "    <tr style=\"text-align: right;\">\n",
       "      <th></th>\n",
       "      <th>country</th>\n",
       "      <th>year</th>\n",
       "      <th>sex</th>\n",
       "      <th>age</th>\n",
       "      <th>suicides_no</th>\n",
       "      <th>population</th>\n",
       "      <th>suicides_pop</th>\n",
       "      <th>country-year</th>\n",
       "      <th>HDI_for_year</th>\n",
       "      <th>gdp_for_year</th>\n",
       "      <th>GDP_per_capital</th>\n",
       "      <th>generation</th>\n",
       "    </tr>\n",
       "  </thead>\n",
       "  <tbody>\n",
       "    <tr>\n",
       "      <th>0</th>\n",
       "      <td>Albania</td>\n",
       "      <td>1987</td>\n",
       "      <td>male</td>\n",
       "      <td>15-24 years</td>\n",
       "      <td>21</td>\n",
       "      <td>312900</td>\n",
       "      <td>6.71</td>\n",
       "      <td>Albania1987</td>\n",
       "      <td>NaN</td>\n",
       "      <td>2,156,624,900</td>\n",
       "      <td>796</td>\n",
       "      <td>Generation X</td>\n",
       "    </tr>\n",
       "    <tr>\n",
       "      <th>1</th>\n",
       "      <td>Albania</td>\n",
       "      <td>1987</td>\n",
       "      <td>male</td>\n",
       "      <td>35-54 years</td>\n",
       "      <td>16</td>\n",
       "      <td>308000</td>\n",
       "      <td>5.19</td>\n",
       "      <td>Albania1987</td>\n",
       "      <td>NaN</td>\n",
       "      <td>2,156,624,900</td>\n",
       "      <td>796</td>\n",
       "      <td>Silent</td>\n",
       "    </tr>\n",
       "    <tr>\n",
       "      <th>2</th>\n",
       "      <td>Albania</td>\n",
       "      <td>1987</td>\n",
       "      <td>female</td>\n",
       "      <td>15-24 years</td>\n",
       "      <td>14</td>\n",
       "      <td>289700</td>\n",
       "      <td>4.83</td>\n",
       "      <td>Albania1987</td>\n",
       "      <td>NaN</td>\n",
       "      <td>2,156,624,900</td>\n",
       "      <td>796</td>\n",
       "      <td>Generation X</td>\n",
       "    </tr>\n",
       "    <tr>\n",
       "      <th>3</th>\n",
       "      <td>Albania</td>\n",
       "      <td>1987</td>\n",
       "      <td>male</td>\n",
       "      <td>75+ years</td>\n",
       "      <td>1</td>\n",
       "      <td>21800</td>\n",
       "      <td>4.59</td>\n",
       "      <td>Albania1987</td>\n",
       "      <td>NaN</td>\n",
       "      <td>2,156,624,900</td>\n",
       "      <td>796</td>\n",
       "      <td>G.I. Generation</td>\n",
       "    </tr>\n",
       "    <tr>\n",
       "      <th>4</th>\n",
       "      <td>Albania</td>\n",
       "      <td>1987</td>\n",
       "      <td>male</td>\n",
       "      <td>25-34 years</td>\n",
       "      <td>9</td>\n",
       "      <td>274300</td>\n",
       "      <td>3.28</td>\n",
       "      <td>Albania1987</td>\n",
       "      <td>NaN</td>\n",
       "      <td>2,156,624,900</td>\n",
       "      <td>796</td>\n",
       "      <td>Boomers</td>\n",
       "    </tr>\n",
       "  </tbody>\n",
       "</table>\n",
       "</div>"
      ],
      "text/plain": [
       "   country  year     sex          age  suicides_no  population  suicides_pop  \\\n",
       "0  Albania  1987    male  15-24 years           21      312900          6.71   \n",
       "1  Albania  1987    male  35-54 years           16      308000          5.19   \n",
       "2  Albania  1987  female  15-24 years           14      289700          4.83   \n",
       "3  Albania  1987    male    75+ years            1       21800          4.59   \n",
       "4  Albania  1987    male  25-34 years            9      274300          3.28   \n",
       "\n",
       "  country-year  HDI_for_year   gdp_for_year  GDP_per_capital       generation  \n",
       "0  Albania1987           NaN  2,156,624,900              796     Generation X  \n",
       "1  Albania1987           NaN  2,156,624,900              796           Silent  \n",
       "2  Albania1987           NaN  2,156,624,900              796     Generation X  \n",
       "3  Albania1987           NaN  2,156,624,900              796  G.I. Generation  \n",
       "4  Albania1987           NaN  2,156,624,900              796          Boomers  "
      ]
     },
     "execution_count": 7,
     "metadata": {},
     "output_type": "execute_result"
    }
   ],
   "source": [
    "df.head(5)"
   ]
  },
  {
   "cell_type": "markdown",
   "id": "e5abbe62",
   "metadata": {},
   "source": [
    "Removing the (country-year) column, because it was splited in the dataset already"
   ]
  },
  {
   "cell_type": "code",
   "execution_count": 8,
   "id": "07c2a858",
   "metadata": {},
   "outputs": [],
   "source": [
    "df=df.drop(['country-year', 'HDI_for_year', 'gdp_for_year'], axis=1)"
   ]
  },
  {
   "cell_type": "code",
   "execution_count": 9,
   "id": "35408957",
   "metadata": {},
   "outputs": [
    {
     "data": {
      "text/html": [
       "<div>\n",
       "<style scoped>\n",
       "    .dataframe tbody tr th:only-of-type {\n",
       "        vertical-align: middle;\n",
       "    }\n",
       "\n",
       "    .dataframe tbody tr th {\n",
       "        vertical-align: top;\n",
       "    }\n",
       "\n",
       "    .dataframe thead th {\n",
       "        text-align: right;\n",
       "    }\n",
       "</style>\n",
       "<table border=\"1\" class=\"dataframe\">\n",
       "  <thead>\n",
       "    <tr style=\"text-align: right;\">\n",
       "      <th></th>\n",
       "      <th>country</th>\n",
       "      <th>year</th>\n",
       "      <th>sex</th>\n",
       "      <th>age</th>\n",
       "      <th>suicides_no</th>\n",
       "      <th>population</th>\n",
       "      <th>suicides_pop</th>\n",
       "      <th>GDP_per_capital</th>\n",
       "      <th>generation</th>\n",
       "    </tr>\n",
       "  </thead>\n",
       "  <tbody>\n",
       "    <tr>\n",
       "      <th>0</th>\n",
       "      <td>Albania</td>\n",
       "      <td>1987</td>\n",
       "      <td>male</td>\n",
       "      <td>15-24 years</td>\n",
       "      <td>21</td>\n",
       "      <td>312900</td>\n",
       "      <td>6.71</td>\n",
       "      <td>796</td>\n",
       "      <td>Generation X</td>\n",
       "    </tr>\n",
       "    <tr>\n",
       "      <th>1</th>\n",
       "      <td>Albania</td>\n",
       "      <td>1987</td>\n",
       "      <td>male</td>\n",
       "      <td>35-54 years</td>\n",
       "      <td>16</td>\n",
       "      <td>308000</td>\n",
       "      <td>5.19</td>\n",
       "      <td>796</td>\n",
       "      <td>Silent</td>\n",
       "    </tr>\n",
       "    <tr>\n",
       "      <th>2</th>\n",
       "      <td>Albania</td>\n",
       "      <td>1987</td>\n",
       "      <td>female</td>\n",
       "      <td>15-24 years</td>\n",
       "      <td>14</td>\n",
       "      <td>289700</td>\n",
       "      <td>4.83</td>\n",
       "      <td>796</td>\n",
       "      <td>Generation X</td>\n",
       "    </tr>\n",
       "    <tr>\n",
       "      <th>3</th>\n",
       "      <td>Albania</td>\n",
       "      <td>1987</td>\n",
       "      <td>male</td>\n",
       "      <td>75+ years</td>\n",
       "      <td>1</td>\n",
       "      <td>21800</td>\n",
       "      <td>4.59</td>\n",
       "      <td>796</td>\n",
       "      <td>G.I. Generation</td>\n",
       "    </tr>\n",
       "    <tr>\n",
       "      <th>4</th>\n",
       "      <td>Albania</td>\n",
       "      <td>1987</td>\n",
       "      <td>male</td>\n",
       "      <td>25-34 years</td>\n",
       "      <td>9</td>\n",
       "      <td>274300</td>\n",
       "      <td>3.28</td>\n",
       "      <td>796</td>\n",
       "      <td>Boomers</td>\n",
       "    </tr>\n",
       "  </tbody>\n",
       "</table>\n",
       "</div>"
      ],
      "text/plain": [
       "   country  year     sex          age  suicides_no  population  suicides_pop  \\\n",
       "0  Albania  1987    male  15-24 years           21      312900          6.71   \n",
       "1  Albania  1987    male  35-54 years           16      308000          5.19   \n",
       "2  Albania  1987  female  15-24 years           14      289700          4.83   \n",
       "3  Albania  1987    male    75+ years            1       21800          4.59   \n",
       "4  Albania  1987    male  25-34 years            9      274300          3.28   \n",
       "\n",
       "   GDP_per_capital       generation  \n",
       "0              796     Generation X  \n",
       "1              796           Silent  \n",
       "2              796     Generation X  \n",
       "3              796  G.I. Generation  \n",
       "4              796          Boomers  "
      ]
     },
     "execution_count": 9,
     "metadata": {},
     "output_type": "execute_result"
    }
   ],
   "source": [
    "df.head()"
   ]
  },
  {
   "cell_type": "code",
   "execution_count": 10,
   "id": "edc76c08",
   "metadata": {},
   "outputs": [
    {
     "data": {
      "text/html": [
       "<div>\n",
       "<style scoped>\n",
       "    .dataframe tbody tr th:only-of-type {\n",
       "        vertical-align: middle;\n",
       "    }\n",
       "\n",
       "    .dataframe tbody tr th {\n",
       "        vertical-align: top;\n",
       "    }\n",
       "\n",
       "    .dataframe thead th {\n",
       "        text-align: right;\n",
       "    }\n",
       "</style>\n",
       "<table border=\"1\" class=\"dataframe\">\n",
       "  <thead>\n",
       "    <tr style=\"text-align: right;\">\n",
       "      <th></th>\n",
       "      <th>year</th>\n",
       "      <th>suicides_no</th>\n",
       "      <th>population</th>\n",
       "      <th>suicides_pop</th>\n",
       "      <th>GDP_per_capital</th>\n",
       "    </tr>\n",
       "  </thead>\n",
       "  <tbody>\n",
       "    <tr>\n",
       "      <th>count</th>\n",
       "      <td>27820.000000</td>\n",
       "      <td>27820.000000</td>\n",
       "      <td>2.782000e+04</td>\n",
       "      <td>27820.000000</td>\n",
       "      <td>27820.000000</td>\n",
       "    </tr>\n",
       "    <tr>\n",
       "      <th>mean</th>\n",
       "      <td>2001.258375</td>\n",
       "      <td>242.574407</td>\n",
       "      <td>1.844794e+06</td>\n",
       "      <td>12.816097</td>\n",
       "      <td>16866.464414</td>\n",
       "    </tr>\n",
       "    <tr>\n",
       "      <th>std</th>\n",
       "      <td>8.469055</td>\n",
       "      <td>902.047917</td>\n",
       "      <td>3.911779e+06</td>\n",
       "      <td>18.961511</td>\n",
       "      <td>18887.576472</td>\n",
       "    </tr>\n",
       "    <tr>\n",
       "      <th>min</th>\n",
       "      <td>1985.000000</td>\n",
       "      <td>0.000000</td>\n",
       "      <td>2.780000e+02</td>\n",
       "      <td>0.000000</td>\n",
       "      <td>251.000000</td>\n",
       "    </tr>\n",
       "    <tr>\n",
       "      <th>25%</th>\n",
       "      <td>1995.000000</td>\n",
       "      <td>3.000000</td>\n",
       "      <td>9.749850e+04</td>\n",
       "      <td>0.920000</td>\n",
       "      <td>3447.000000</td>\n",
       "    </tr>\n",
       "    <tr>\n",
       "      <th>50%</th>\n",
       "      <td>2002.000000</td>\n",
       "      <td>25.000000</td>\n",
       "      <td>4.301500e+05</td>\n",
       "      <td>5.990000</td>\n",
       "      <td>9372.000000</td>\n",
       "    </tr>\n",
       "    <tr>\n",
       "      <th>75%</th>\n",
       "      <td>2008.000000</td>\n",
       "      <td>131.000000</td>\n",
       "      <td>1.486143e+06</td>\n",
       "      <td>16.620000</td>\n",
       "      <td>24874.000000</td>\n",
       "    </tr>\n",
       "    <tr>\n",
       "      <th>max</th>\n",
       "      <td>2016.000000</td>\n",
       "      <td>22338.000000</td>\n",
       "      <td>4.380521e+07</td>\n",
       "      <td>224.970000</td>\n",
       "      <td>126352.000000</td>\n",
       "    </tr>\n",
       "  </tbody>\n",
       "</table>\n",
       "</div>"
      ],
      "text/plain": [
       "               year   suicides_no    population  suicides_pop  GDP_per_capital\n",
       "count  27820.000000  27820.000000  2.782000e+04  27820.000000     27820.000000\n",
       "mean    2001.258375    242.574407  1.844794e+06     12.816097     16866.464414\n",
       "std        8.469055    902.047917  3.911779e+06     18.961511     18887.576472\n",
       "min     1985.000000      0.000000  2.780000e+02      0.000000       251.000000\n",
       "25%     1995.000000      3.000000  9.749850e+04      0.920000      3447.000000\n",
       "50%     2002.000000     25.000000  4.301500e+05      5.990000      9372.000000\n",
       "75%     2008.000000    131.000000  1.486143e+06     16.620000     24874.000000\n",
       "max     2016.000000  22338.000000  4.380521e+07    224.970000    126352.000000"
      ]
     },
     "execution_count": 10,
     "metadata": {},
     "output_type": "execute_result"
    }
   ],
   "source": [
    " df.describe()"
   ]
  },
  {
   "cell_type": "code",
   "execution_count": 11,
   "id": "958cb6d7",
   "metadata": {},
   "outputs": [
    {
     "data": {
      "text/html": [
       "<div>\n",
       "<style scoped>\n",
       "    .dataframe tbody tr th:only-of-type {\n",
       "        vertical-align: middle;\n",
       "    }\n",
       "\n",
       "    .dataframe tbody tr th {\n",
       "        vertical-align: top;\n",
       "    }\n",
       "\n",
       "    .dataframe thead th {\n",
       "        text-align: right;\n",
       "    }\n",
       "</style>\n",
       "<table border=\"1\" class=\"dataframe\">\n",
       "  <thead>\n",
       "    <tr style=\"text-align: right;\">\n",
       "      <th></th>\n",
       "      <th>count</th>\n",
       "      <th>unique</th>\n",
       "      <th>top</th>\n",
       "      <th>freq</th>\n",
       "      <th>mean</th>\n",
       "      <th>std</th>\n",
       "      <th>min</th>\n",
       "      <th>25%</th>\n",
       "      <th>50%</th>\n",
       "      <th>75%</th>\n",
       "      <th>max</th>\n",
       "    </tr>\n",
       "  </thead>\n",
       "  <tbody>\n",
       "    <tr>\n",
       "      <th>country</th>\n",
       "      <td>27820</td>\n",
       "      <td>101</td>\n",
       "      <td>Mauritius</td>\n",
       "      <td>382</td>\n",
       "      <td>NaN</td>\n",
       "      <td>NaN</td>\n",
       "      <td>NaN</td>\n",
       "      <td>NaN</td>\n",
       "      <td>NaN</td>\n",
       "      <td>NaN</td>\n",
       "      <td>NaN</td>\n",
       "    </tr>\n",
       "    <tr>\n",
       "      <th>year</th>\n",
       "      <td>27820.0</td>\n",
       "      <td>NaN</td>\n",
       "      <td>NaN</td>\n",
       "      <td>NaN</td>\n",
       "      <td>2001.258375</td>\n",
       "      <td>8.469055</td>\n",
       "      <td>1985.0</td>\n",
       "      <td>1995.0</td>\n",
       "      <td>2002.0</td>\n",
       "      <td>2008.0</td>\n",
       "      <td>2016.0</td>\n",
       "    </tr>\n",
       "    <tr>\n",
       "      <th>sex</th>\n",
       "      <td>27820</td>\n",
       "      <td>2</td>\n",
       "      <td>male</td>\n",
       "      <td>13910</td>\n",
       "      <td>NaN</td>\n",
       "      <td>NaN</td>\n",
       "      <td>NaN</td>\n",
       "      <td>NaN</td>\n",
       "      <td>NaN</td>\n",
       "      <td>NaN</td>\n",
       "      <td>NaN</td>\n",
       "    </tr>\n",
       "    <tr>\n",
       "      <th>age</th>\n",
       "      <td>27820</td>\n",
       "      <td>6</td>\n",
       "      <td>15-24 years</td>\n",
       "      <td>4642</td>\n",
       "      <td>NaN</td>\n",
       "      <td>NaN</td>\n",
       "      <td>NaN</td>\n",
       "      <td>NaN</td>\n",
       "      <td>NaN</td>\n",
       "      <td>NaN</td>\n",
       "      <td>NaN</td>\n",
       "    </tr>\n",
       "    <tr>\n",
       "      <th>suicides_no</th>\n",
       "      <td>27820.0</td>\n",
       "      <td>NaN</td>\n",
       "      <td>NaN</td>\n",
       "      <td>NaN</td>\n",
       "      <td>242.574407</td>\n",
       "      <td>902.047917</td>\n",
       "      <td>0.0</td>\n",
       "      <td>3.0</td>\n",
       "      <td>25.0</td>\n",
       "      <td>131.0</td>\n",
       "      <td>22338.0</td>\n",
       "    </tr>\n",
       "    <tr>\n",
       "      <th>population</th>\n",
       "      <td>27820.0</td>\n",
       "      <td>NaN</td>\n",
       "      <td>NaN</td>\n",
       "      <td>NaN</td>\n",
       "      <td>1844793.617398</td>\n",
       "      <td>3911779.441756</td>\n",
       "      <td>278.0</td>\n",
       "      <td>97498.5</td>\n",
       "      <td>430150.0</td>\n",
       "      <td>1486143.25</td>\n",
       "      <td>43805214.0</td>\n",
       "    </tr>\n",
       "    <tr>\n",
       "      <th>suicides_pop</th>\n",
       "      <td>27820.0</td>\n",
       "      <td>NaN</td>\n",
       "      <td>NaN</td>\n",
       "      <td>NaN</td>\n",
       "      <td>12.816097</td>\n",
       "      <td>18.961511</td>\n",
       "      <td>0.0</td>\n",
       "      <td>0.92</td>\n",
       "      <td>5.99</td>\n",
       "      <td>16.62</td>\n",
       "      <td>224.97</td>\n",
       "    </tr>\n",
       "    <tr>\n",
       "      <th>GDP_per_capital</th>\n",
       "      <td>27820.0</td>\n",
       "      <td>NaN</td>\n",
       "      <td>NaN</td>\n",
       "      <td>NaN</td>\n",
       "      <td>16866.464414</td>\n",
       "      <td>18887.576472</td>\n",
       "      <td>251.0</td>\n",
       "      <td>3447.0</td>\n",
       "      <td>9372.0</td>\n",
       "      <td>24874.0</td>\n",
       "      <td>126352.0</td>\n",
       "    </tr>\n",
       "    <tr>\n",
       "      <th>generation</th>\n",
       "      <td>27820</td>\n",
       "      <td>6</td>\n",
       "      <td>Generation X</td>\n",
       "      <td>6408</td>\n",
       "      <td>NaN</td>\n",
       "      <td>NaN</td>\n",
       "      <td>NaN</td>\n",
       "      <td>NaN</td>\n",
       "      <td>NaN</td>\n",
       "      <td>NaN</td>\n",
       "      <td>NaN</td>\n",
       "    </tr>\n",
       "  </tbody>\n",
       "</table>\n",
       "</div>"
      ],
      "text/plain": [
       "                   count unique           top   freq            mean  \\\n",
       "country            27820    101     Mauritius    382             NaN   \n",
       "year             27820.0    NaN           NaN    NaN     2001.258375   \n",
       "sex                27820      2          male  13910             NaN   \n",
       "age                27820      6   15-24 years   4642             NaN   \n",
       "suicides_no      27820.0    NaN           NaN    NaN      242.574407   \n",
       "population       27820.0    NaN           NaN    NaN  1844793.617398   \n",
       "suicides_pop     27820.0    NaN           NaN    NaN       12.816097   \n",
       "GDP_per_capital  27820.0    NaN           NaN    NaN    16866.464414   \n",
       "generation         27820      6  Generation X   6408             NaN   \n",
       "\n",
       "                            std     min      25%       50%         75%  \\\n",
       "country                     NaN     NaN      NaN       NaN         NaN   \n",
       "year                   8.469055  1985.0   1995.0    2002.0      2008.0   \n",
       "sex                         NaN     NaN      NaN       NaN         NaN   \n",
       "age                         NaN     NaN      NaN       NaN         NaN   \n",
       "suicides_no          902.047917     0.0      3.0      25.0       131.0   \n",
       "population       3911779.441756   278.0  97498.5  430150.0  1486143.25   \n",
       "suicides_pop          18.961511     0.0     0.92      5.99       16.62   \n",
       "GDP_per_capital    18887.576472   251.0   3447.0    9372.0     24874.0   \n",
       "generation                  NaN     NaN      NaN       NaN         NaN   \n",
       "\n",
       "                        max  \n",
       "country                 NaN  \n",
       "year                 2016.0  \n",
       "sex                     NaN  \n",
       "age                     NaN  \n",
       "suicides_no         22338.0  \n",
       "population       43805214.0  \n",
       "suicides_pop         224.97  \n",
       "GDP_per_capital    126352.0  \n",
       "generation              NaN  "
      ]
     },
     "execution_count": 11,
     "metadata": {},
     "output_type": "execute_result"
    }
   ],
   "source": [
    "df.describe(include = 'all').T"
   ]
  },
  {
   "cell_type": "code",
   "execution_count": 12,
   "id": "2a1801ef",
   "metadata": {},
   "outputs": [
    {
     "data": {
      "text/plain": [
       "(27820, 9)"
      ]
     },
     "execution_count": 12,
     "metadata": {},
     "output_type": "execute_result"
    }
   ],
   "source": [
    "df.shape"
   ]
  },
  {
   "cell_type": "code",
   "execution_count": 13,
   "id": "179983ab",
   "metadata": {},
   "outputs": [
    {
     "data": {
      "text/plain": [
       "250380"
      ]
     },
     "execution_count": 13,
     "metadata": {},
     "output_type": "execute_result"
    }
   ],
   "source": [
    "df.size"
   ]
  },
  {
   "cell_type": "code",
   "execution_count": 14,
   "id": "68f9cbd6",
   "metadata": {},
   "outputs": [
    {
     "data": {
      "text/plain": [
       "country             object\n",
       "year                 int64\n",
       "sex                 object\n",
       "age                 object\n",
       "suicides_no          int64\n",
       "population           int64\n",
       "suicides_pop       float64\n",
       "GDP_per_capital      int64\n",
       "generation          object\n",
       "dtype: object"
      ]
     },
     "execution_count": 14,
     "metadata": {},
     "output_type": "execute_result"
    }
   ],
   "source": [
    "df.dtypes"
   ]
  },
  {
   "cell_type": "code",
   "execution_count": 15,
   "id": "b9fe9122",
   "metadata": {},
   "outputs": [
    {
     "name": "stdout",
     "output_type": "stream",
     "text": [
      "<class 'pandas.core.frame.DataFrame'>\n",
      "RangeIndex: 27820 entries, 0 to 27819\n",
      "Data columns (total 9 columns):\n",
      " #   Column           Non-Null Count  Dtype  \n",
      "---  ------           --------------  -----  \n",
      " 0   country          27820 non-null  object \n",
      " 1   year             27820 non-null  int64  \n",
      " 2   sex              27820 non-null  object \n",
      " 3   age              27820 non-null  object \n",
      " 4   suicides_no      27820 non-null  int64  \n",
      " 5   population       27820 non-null  int64  \n",
      " 6   suicides_pop     27820 non-null  float64\n",
      " 7   GDP_per_capital  27820 non-null  int64  \n",
      " 8   generation       27820 non-null  object \n",
      "dtypes: float64(1), int64(4), object(4)\n",
      "memory usage: 1.9+ MB\n"
     ]
    }
   ],
   "source": [
    "df.info()"
   ]
  },
  {
   "cell_type": "code",
   "execution_count": 16,
   "id": "cf339d0e",
   "metadata": {},
   "outputs": [
    {
     "data": {
      "text/plain": [
       "7"
      ]
     },
     "execution_count": 16,
     "metadata": {},
     "output_type": "execute_result"
    }
   ],
   "source": [
    "len(\"country\")"
   ]
  },
  {
   "cell_type": "markdown",
   "id": "a70682e0",
   "metadata": {},
   "source": [
    "knowing the unique values of some coloumns"
   ]
  },
  {
   "cell_type": "code",
   "execution_count": 17,
   "id": "563b6e5c",
   "metadata": {},
   "outputs": [
    {
     "data": {
      "text/plain": [
       "array(['Albania', 'Antigua and Barbuda', 'Argentina', 'Armenia', 'Aruba',\n",
       "       'Australia', 'Austria', 'Azerbaijan', 'Bahamas', 'Bahrain',\n",
       "       'Barbados', 'Belarus', 'Belgium', 'Belize',\n",
       "       'Bosnia and Herzegovina', 'Brazil', 'Bulgaria', 'Cabo Verde',\n",
       "       'Canada', 'Chile', 'Colombia', 'Costa Rica', 'Croatia', 'Cuba',\n",
       "       'Cyprus', 'Czech Republic', 'Denmark', 'Dominica', 'Ecuador',\n",
       "       'El Salvador', 'Estonia', 'Fiji', 'Finland', 'France', 'Georgia',\n",
       "       'Germany', 'Greece', 'Grenada', 'Guatemala', 'Guyana', 'Hungary',\n",
       "       'Iceland', 'Ireland', 'Israel', 'Italy', 'Jamaica', 'Japan',\n",
       "       'Kazakhstan', 'Kiribati', 'Kuwait', 'Kyrgyzstan', 'Latvia',\n",
       "       'Lithuania', 'Luxembourg', 'Macau', 'Maldives', 'Malta',\n",
       "       'Mauritius', 'Mexico', 'Mongolia', 'Montenegro', 'Netherlands',\n",
       "       'New Zealand', 'Nicaragua', 'Norway', 'Oman', 'Panama', 'Paraguay',\n",
       "       'Philippines', 'Poland', 'Portugal', 'Puerto Rico', 'Qatar',\n",
       "       'Republic of Korea', 'Romania', 'Russian Federation',\n",
       "       'Saint Kitts and Nevis', 'Saint Lucia',\n",
       "       'Saint Vincent and Grenadines', 'San Marino', 'Serbia',\n",
       "       'Seychelles', 'Singapore', 'Slovakia', 'Slovenia', 'South Africa',\n",
       "       'Spain', 'Sri Lanka', 'Suriname', 'Sweden', 'Switzerland',\n",
       "       'Thailand', 'Trinidad and Tobago', 'Turkey', 'Turkmenistan',\n",
       "       'Ukraine', 'United Arab Emirates', 'United Kingdom',\n",
       "       'United States', 'Uruguay', 'Uzbekistan'], dtype=object)"
      ]
     },
     "execution_count": 17,
     "metadata": {},
     "output_type": "execute_result"
    }
   ],
   "source": [
    "df['country'].unique()"
   ]
  },
  {
   "cell_type": "code",
   "execution_count": 18,
   "id": "3db4a83d",
   "metadata": {},
   "outputs": [
    {
     "data": {
      "text/plain": [
       "array(['male', 'female'], dtype=object)"
      ]
     },
     "execution_count": 18,
     "metadata": {},
     "output_type": "execute_result"
    }
   ],
   "source": [
    "df['sex'].unique()"
   ]
  },
  {
   "cell_type": "code",
   "execution_count": 19,
   "id": "ad632117",
   "metadata": {},
   "outputs": [
    {
     "data": {
      "text/plain": [
       "array(['Generation X', 'Silent', 'G.I. Generation', 'Boomers',\n",
       "       'Millenials', 'Generation Z'], dtype=object)"
      ]
     },
     "execution_count": 19,
     "metadata": {},
     "output_type": "execute_result"
    }
   ],
   "source": [
    "df['generation'].unique()"
   ]
  },
  {
   "cell_type": "code",
   "execution_count": 20,
   "id": "2594d1be",
   "metadata": {},
   "outputs": [
    {
     "data": {
      "text/plain": [
       "array(['15-24 years', '35-54 years', '75+ years', '25-34 years',\n",
       "       '55-74 years', '5-14 years'], dtype=object)"
      ]
     },
     "execution_count": 20,
     "metadata": {},
     "output_type": "execute_result"
    }
   ],
   "source": [
    "df['age'].unique()"
   ]
  },
  {
   "cell_type": "code",
   "execution_count": 21,
   "id": "6a55ca7a",
   "metadata": {},
   "outputs": [
    {
     "data": {
      "text/plain": [
       "array([1987, 1988, 1989, 1992, 1993, 1994, 1995, 1996, 1997, 1998, 1999,\n",
       "       2000, 2001, 2002, 2003, 2004, 2005, 2006, 2007, 2008, 2009, 2010,\n",
       "       1985, 1986, 1990, 1991, 2012, 2013, 2014, 2015, 2011, 2016],\n",
       "      dtype=int64)"
      ]
     },
     "execution_count": 21,
     "metadata": {},
     "output_type": "execute_result"
    }
   ],
   "source": [
    "df['year'].unique()"
   ]
  },
  {
   "cell_type": "markdown",
   "id": "76980558",
   "metadata": {},
   "source": [
    "knowing the no of unique value in country"
   ]
  },
  {
   "cell_type": "code",
   "execution_count": 22,
   "id": "d44d1a7b",
   "metadata": {},
   "outputs": [
    {
     "data": {
      "text/plain": [
       "101"
      ]
     },
     "execution_count": 22,
     "metadata": {},
     "output_type": "execute_result"
    }
   ],
   "source": [
    "df['country'].nunique()"
   ]
  },
  {
   "cell_type": "code",
   "execution_count": 23,
   "id": "e198bb38",
   "metadata": {},
   "outputs": [
    {
     "data": {
      "text/plain": [
       "0"
      ]
     },
     "execution_count": 23,
     "metadata": {},
     "output_type": "execute_result"
    }
   ],
   "source": [
    "df.duplicated().sum()"
   ]
  },
  {
   "cell_type": "markdown",
   "id": "1787a7a2",
   "metadata": {},
   "source": [
    "checking for Null value"
   ]
  },
  {
   "cell_type": "code",
   "execution_count": 24,
   "id": "ea95d3d7",
   "metadata": {},
   "outputs": [
    {
     "data": {
      "text/plain": [
       "country            0\n",
       "year               0\n",
       "sex                0\n",
       "age                0\n",
       "suicides_no        0\n",
       "population         0\n",
       "suicides_pop       0\n",
       "GDP_per_capital    0\n",
       "generation         0\n",
       "dtype: int64"
      ]
     },
     "execution_count": 24,
     "metadata": {},
     "output_type": "execute_result"
    }
   ],
   "source": [
    "df.isnull().sum()"
   ]
  },
  {
   "cell_type": "code",
   "execution_count": 26,
   "id": "5a048186",
   "metadata": {},
   "outputs": [
    {
     "data": {
      "text/plain": [
       "6748420"
      ]
     },
     "execution_count": 26,
     "metadata": {},
     "output_type": "execute_result"
    }
   ],
   "source": [
    "df['suicides_no'].sum()"
   ]
  },
  {
   "cell_type": "code",
   "execution_count": 27,
   "id": "f3c7a858",
   "metadata": {},
   "outputs": [
    {
     "data": {
      "text/html": [
       "<div>\n",
       "<style scoped>\n",
       "    .dataframe tbody tr th:only-of-type {\n",
       "        vertical-align: middle;\n",
       "    }\n",
       "\n",
       "    .dataframe tbody tr th {\n",
       "        vertical-align: top;\n",
       "    }\n",
       "\n",
       "    .dataframe thead th {\n",
       "        text-align: right;\n",
       "    }\n",
       "</style>\n",
       "<table border=\"1\" class=\"dataframe\">\n",
       "  <thead>\n",
       "    <tr style=\"text-align: right;\">\n",
       "      <th></th>\n",
       "      <th>suicides_no</th>\n",
       "      <th>population</th>\n",
       "      <th>suicides_pop</th>\n",
       "      <th>GDP_per_capital</th>\n",
       "    </tr>\n",
       "    <tr>\n",
       "      <th>year</th>\n",
       "      <th></th>\n",
       "      <th></th>\n",
       "      <th></th>\n",
       "      <th></th>\n",
       "    </tr>\n",
       "  </thead>\n",
       "  <tbody>\n",
       "    <tr>\n",
       "      <th>1985</th>\n",
       "      <td>116063</td>\n",
       "      <td>1008600086</td>\n",
       "      <td>6811.89</td>\n",
       "      <td>3508548</td>\n",
       "    </tr>\n",
       "    <tr>\n",
       "      <th>1986</th>\n",
       "      <td>120670</td>\n",
       "      <td>1029909613</td>\n",
       "      <td>6579.84</td>\n",
       "      <td>4104636</td>\n",
       "    </tr>\n",
       "    <tr>\n",
       "      <th>1987</th>\n",
       "      <td>126842</td>\n",
       "      <td>1095029726</td>\n",
       "      <td>7545.45</td>\n",
       "      <td>5645760</td>\n",
       "    </tr>\n",
       "    <tr>\n",
       "      <th>1988</th>\n",
       "      <td>121026</td>\n",
       "      <td>1054094424</td>\n",
       "      <td>7473.13</td>\n",
       "      <td>5870508</td>\n",
       "    </tr>\n",
       "    <tr>\n",
       "      <th>1989</th>\n",
       "      <td>160244</td>\n",
       "      <td>1225514347</td>\n",
       "      <td>8036.54</td>\n",
       "      <td>6068424</td>\n",
       "    </tr>\n",
       "    <tr>\n",
       "      <th>1990</th>\n",
       "      <td>193361</td>\n",
       "      <td>1466620100</td>\n",
       "      <td>9878.75</td>\n",
       "      <td>7531260</td>\n",
       "    </tr>\n",
       "    <tr>\n",
       "      <th>1991</th>\n",
       "      <td>198020</td>\n",
       "      <td>1489988384</td>\n",
       "      <td>10321.06</td>\n",
       "      <td>7782096</td>\n",
       "    </tr>\n",
       "    <tr>\n",
       "      <th>1992</th>\n",
       "      <td>211473</td>\n",
       "      <td>1569539447</td>\n",
       "      <td>10528.88</td>\n",
       "      <td>8195232</td>\n",
       "    </tr>\n",
       "    <tr>\n",
       "      <th>1993</th>\n",
       "      <td>221565</td>\n",
       "      <td>1530416654</td>\n",
       "      <td>10790.29</td>\n",
       "      <td>8231796</td>\n",
       "    </tr>\n",
       "    <tr>\n",
       "      <th>1994</th>\n",
       "      <td>232063</td>\n",
       "      <td>1548749372</td>\n",
       "      <td>11483.79</td>\n",
       "      <td>9438756</td>\n",
       "    </tr>\n",
       "    <tr>\n",
       "      <th>1995</th>\n",
       "      <td>243544</td>\n",
       "      <td>1591559103</td>\n",
       "      <td>14660.26</td>\n",
       "      <td>11858508</td>\n",
       "    </tr>\n",
       "    <tr>\n",
       "      <th>1996</th>\n",
       "      <td>246725</td>\n",
       "      <td>1662267662</td>\n",
       "      <td>14142.21</td>\n",
       "      <td>11600736</td>\n",
       "    </tr>\n",
       "    <tr>\n",
       "      <th>1997</th>\n",
       "      <td>240745</td>\n",
       "      <td>1702991519</td>\n",
       "      <td>13817.83</td>\n",
       "      <td>11398596</td>\n",
       "    </tr>\n",
       "    <tr>\n",
       "      <th>1998</th>\n",
       "      <td>249591</td>\n",
       "      <td>1725181351</td>\n",
       "      <td>14150.72</td>\n",
       "      <td>11506728</td>\n",
       "    </tr>\n",
       "    <tr>\n",
       "      <th>1999</th>\n",
       "      <td>256119</td>\n",
       "      <td>1776363155</td>\n",
       "      <td>14473.91</td>\n",
       "      <td>12780864</td>\n",
       "    </tr>\n",
       "    <tr>\n",
       "      <th>2000</th>\n",
       "      <td>255832</td>\n",
       "      <td>1799227908</td>\n",
       "      <td>14387.45</td>\n",
       "      <td>12865476</td>\n",
       "    </tr>\n",
       "    <tr>\n",
       "      <th>2001</th>\n",
       "      <td>250652</td>\n",
       "      <td>1755565489</td>\n",
       "      <td>14276.21</td>\n",
       "      <td>12677892</td>\n",
       "    </tr>\n",
       "    <tr>\n",
       "      <th>2002</th>\n",
       "      <td>256095</td>\n",
       "      <td>1822152815</td>\n",
       "      <td>14227.72</td>\n",
       "      <td>13017420</td>\n",
       "    </tr>\n",
       "    <tr>\n",
       "      <th>2003</th>\n",
       "      <td>256079</td>\n",
       "      <td>1838458020</td>\n",
       "      <td>13627.58</td>\n",
       "      <td>15187104</td>\n",
       "    </tr>\n",
       "    <tr>\n",
       "      <th>2004</th>\n",
       "      <td>240861</td>\n",
       "      <td>1745246613</td>\n",
       "      <td>12581.80</td>\n",
       "      <td>17895936</td>\n",
       "    </tr>\n",
       "    <tr>\n",
       "      <th>2005</th>\n",
       "      <td>234375</td>\n",
       "      <td>1734909645</td>\n",
       "      <td>12164.99</td>\n",
       "      <td>20317212</td>\n",
       "    </tr>\n",
       "    <tr>\n",
       "      <th>2006</th>\n",
       "      <td>233361</td>\n",
       "      <td>1840908837</td>\n",
       "      <td>12166.01</td>\n",
       "      <td>21563784</td>\n",
       "    </tr>\n",
       "    <tr>\n",
       "      <th>2007</th>\n",
       "      <td>233408</td>\n",
       "      <td>1859564353</td>\n",
       "      <td>12410.15</td>\n",
       "      <td>24709620</td>\n",
       "    </tr>\n",
       "    <tr>\n",
       "      <th>2008</th>\n",
       "      <td>235447</td>\n",
       "      <td>1860620851</td>\n",
       "      <td>12145.84</td>\n",
       "      <td>26936208</td>\n",
       "    </tr>\n",
       "    <tr>\n",
       "      <th>2009</th>\n",
       "      <td>243487</td>\n",
       "      <td>1976228366</td>\n",
       "      <td>12176.04</td>\n",
       "      <td>24145248</td>\n",
       "    </tr>\n",
       "    <tr>\n",
       "      <th>2010</th>\n",
       "      <td>238702</td>\n",
       "      <td>1997297329</td>\n",
       "      <td>11843.99</td>\n",
       "      <td>25193196</td>\n",
       "    </tr>\n",
       "    <tr>\n",
       "      <th>2011</th>\n",
       "      <td>236484</td>\n",
       "      <td>1993362332</td>\n",
       "      <td>11367.84</td>\n",
       "      <td>26936148</td>\n",
       "    </tr>\n",
       "    <tr>\n",
       "      <th>2012</th>\n",
       "      <td>230160</td>\n",
       "      <td>1912812088</td>\n",
       "      <td>11101.91</td>\n",
       "      <td>26058300</td>\n",
       "    </tr>\n",
       "    <tr>\n",
       "      <th>2013</th>\n",
       "      <td>223199</td>\n",
       "      <td>1890161710</td>\n",
       "      <td>10663.64</td>\n",
       "      <td>26911368</td>\n",
       "    </tr>\n",
       "    <tr>\n",
       "      <th>2014</th>\n",
       "      <td>222984</td>\n",
       "      <td>1912057309</td>\n",
       "      <td>10306.73</td>\n",
       "      <td>25665252</td>\n",
       "    </tr>\n",
       "    <tr>\n",
       "      <th>2015</th>\n",
       "      <td>203640</td>\n",
       "      <td>1774657932</td>\n",
       "      <td>8253.99</td>\n",
       "      <td>19516008</td>\n",
       "    </tr>\n",
       "    <tr>\n",
       "      <th>2016</th>\n",
       "      <td>15603</td>\n",
       "      <td>132101896</td>\n",
       "      <td>2147.39</td>\n",
       "      <td>4106420</td>\n",
       "    </tr>\n",
       "  </tbody>\n",
       "</table>\n",
       "</div>"
      ],
      "text/plain": [
       "      suicides_no  population  suicides_pop  GDP_per_capital\n",
       "year                                                        \n",
       "1985       116063  1008600086       6811.89          3508548\n",
       "1986       120670  1029909613       6579.84          4104636\n",
       "1987       126842  1095029726       7545.45          5645760\n",
       "1988       121026  1054094424       7473.13          5870508\n",
       "1989       160244  1225514347       8036.54          6068424\n",
       "1990       193361  1466620100       9878.75          7531260\n",
       "1991       198020  1489988384      10321.06          7782096\n",
       "1992       211473  1569539447      10528.88          8195232\n",
       "1993       221565  1530416654      10790.29          8231796\n",
       "1994       232063  1548749372      11483.79          9438756\n",
       "1995       243544  1591559103      14660.26         11858508\n",
       "1996       246725  1662267662      14142.21         11600736\n",
       "1997       240745  1702991519      13817.83         11398596\n",
       "1998       249591  1725181351      14150.72         11506728\n",
       "1999       256119  1776363155      14473.91         12780864\n",
       "2000       255832  1799227908      14387.45         12865476\n",
       "2001       250652  1755565489      14276.21         12677892\n",
       "2002       256095  1822152815      14227.72         13017420\n",
       "2003       256079  1838458020      13627.58         15187104\n",
       "2004       240861  1745246613      12581.80         17895936\n",
       "2005       234375  1734909645      12164.99         20317212\n",
       "2006       233361  1840908837      12166.01         21563784\n",
       "2007       233408  1859564353      12410.15         24709620\n",
       "2008       235447  1860620851      12145.84         26936208\n",
       "2009       243487  1976228366      12176.04         24145248\n",
       "2010       238702  1997297329      11843.99         25193196\n",
       "2011       236484  1993362332      11367.84         26936148\n",
       "2012       230160  1912812088      11101.91         26058300\n",
       "2013       223199  1890161710      10663.64         26911368\n",
       "2014       222984  1912057309      10306.73         25665252\n",
       "2015       203640  1774657932       8253.99         19516008\n",
       "2016        15603   132101896       2147.39          4106420"
      ]
     },
     "execution_count": 27,
     "metadata": {},
     "output_type": "execute_result"
    }
   ],
   "source": [
    "df.groupby(['year']).sum()"
   ]
  },
  {
   "cell_type": "markdown",
   "id": "78a58bb6",
   "metadata": {},
   "source": [
    "grouping by country "
   ]
  },
  {
   "cell_type": "code",
   "execution_count": 28,
   "id": "a3014c22",
   "metadata": {},
   "outputs": [
    {
     "data": {
      "text/html": [
       "<div>\n",
       "<style scoped>\n",
       "    .dataframe tbody tr th:only-of-type {\n",
       "        vertical-align: middle;\n",
       "    }\n",
       "\n",
       "    .dataframe tbody tr th {\n",
       "        vertical-align: top;\n",
       "    }\n",
       "\n",
       "    .dataframe thead th {\n",
       "        text-align: right;\n",
       "    }\n",
       "</style>\n",
       "<table border=\"1\" class=\"dataframe\">\n",
       "  <thead>\n",
       "    <tr style=\"text-align: right;\">\n",
       "      <th></th>\n",
       "      <th>year</th>\n",
       "      <th>suicides_no</th>\n",
       "      <th>population</th>\n",
       "      <th>suicides_pop</th>\n",
       "      <th>GDP_per_capital</th>\n",
       "    </tr>\n",
       "    <tr>\n",
       "      <th>country</th>\n",
       "      <th></th>\n",
       "      <th></th>\n",
       "      <th></th>\n",
       "      <th></th>\n",
       "      <th></th>\n",
       "    </tr>\n",
       "  </thead>\n",
       "  <tbody>\n",
       "    <tr>\n",
       "      <th>Albania</th>\n",
       "      <td>527796</td>\n",
       "      <td>1970</td>\n",
       "      <td>62325467</td>\n",
       "      <td>924.76</td>\n",
       "      <td>490788</td>\n",
       "    </tr>\n",
       "    <tr>\n",
       "      <th>Antigua and Barbuda</th>\n",
       "      <td>647832</td>\n",
       "      <td>11</td>\n",
       "      <td>1990228</td>\n",
       "      <td>179.14</td>\n",
       "      <td>3385212</td>\n",
       "    </tr>\n",
       "    <tr>\n",
       "      <th>Argentina</th>\n",
       "      <td>744000</td>\n",
       "      <td>82219</td>\n",
       "      <td>1035985431</td>\n",
       "      <td>3894.59</td>\n",
       "      <td>2944044</td>\n",
       "    </tr>\n",
       "    <tr>\n",
       "      <th>Armenia</th>\n",
       "      <td>596832</td>\n",
       "      <td>1905</td>\n",
       "      <td>77348173</td>\n",
       "      <td>976.21</td>\n",
       "      <td>558428</td>\n",
       "    </tr>\n",
       "    <tr>\n",
       "      <th>Aruba</th>\n",
       "      <td>336720</td>\n",
       "      <td>101</td>\n",
       "      <td>1259677</td>\n",
       "      <td>1596.52</td>\n",
       "      <td>4069236</td>\n",
       "    </tr>\n",
       "    <tr>\n",
       "      <th>...</th>\n",
       "      <td>...</td>\n",
       "      <td>...</td>\n",
       "      <td>...</td>\n",
       "      <td>...</td>\n",
       "      <td>...</td>\n",
       "    </tr>\n",
       "    <tr>\n",
       "      <th>United Arab Emirates</th>\n",
       "      <td>144540</td>\n",
       "      <td>622</td>\n",
       "      <td>36502275</td>\n",
       "      <td>94.89</td>\n",
       "      <td>3035664</td>\n",
       "    </tr>\n",
       "    <tr>\n",
       "      <th>United Kingdom</th>\n",
       "      <td>744000</td>\n",
       "      <td>136805</td>\n",
       "      <td>1738767780</td>\n",
       "      <td>2790.92</td>\n",
       "      <td>11869908</td>\n",
       "    </tr>\n",
       "    <tr>\n",
       "      <th>United States</th>\n",
       "      <td>744000</td>\n",
       "      <td>1034013</td>\n",
       "      <td>8054027201</td>\n",
       "      <td>5140.97</td>\n",
       "      <td>14608296</td>\n",
       "    </tr>\n",
       "    <tr>\n",
       "      <th>Uruguay</th>\n",
       "      <td>672072</td>\n",
       "      <td>13138</td>\n",
       "      <td>84068943</td>\n",
       "      <td>6538.96</td>\n",
       "      <td>2561016</td>\n",
       "    </tr>\n",
       "    <tr>\n",
       "      <th>Uzbekistan</th>\n",
       "      <td>528348</td>\n",
       "      <td>34803</td>\n",
       "      <td>486422532</td>\n",
       "      <td>2138.17</td>\n",
       "      <td>257712</td>\n",
       "    </tr>\n",
       "  </tbody>\n",
       "</table>\n",
       "<p>101 rows × 5 columns</p>\n",
       "</div>"
      ],
      "text/plain": [
       "                        year  suicides_no  population  suicides_pop  \\\n",
       "country                                                               \n",
       "Albania               527796         1970    62325467        924.76   \n",
       "Antigua and Barbuda   647832           11     1990228        179.14   \n",
       "Argentina             744000        82219  1035985431       3894.59   \n",
       "Armenia               596832         1905    77348173        976.21   \n",
       "Aruba                 336720          101     1259677       1596.52   \n",
       "...                      ...          ...         ...           ...   \n",
       "United Arab Emirates  144540          622    36502275         94.89   \n",
       "United Kingdom        744000       136805  1738767780       2790.92   \n",
       "United States         744000      1034013  8054027201       5140.97   \n",
       "Uruguay               672072        13138    84068943       6538.96   \n",
       "Uzbekistan            528348        34803   486422532       2138.17   \n",
       "\n",
       "                      GDP_per_capital  \n",
       "country                                \n",
       "Albania                        490788  \n",
       "Antigua and Barbuda           3385212  \n",
       "Argentina                     2944044  \n",
       "Armenia                        558428  \n",
       "Aruba                         4069236  \n",
       "...                               ...  \n",
       "United Arab Emirates          3035664  \n",
       "United Kingdom               11869908  \n",
       "United States                14608296  \n",
       "Uruguay                       2561016  \n",
       "Uzbekistan                     257712  \n",
       "\n",
       "[101 rows x 5 columns]"
      ]
     },
     "execution_count": 28,
     "metadata": {},
     "output_type": "execute_result"
    }
   ],
   "source": [
    "df.groupby(\"country\").sum()"
   ]
  },
  {
   "cell_type": "code",
   "execution_count": 29,
   "id": "1aa67f71",
   "metadata": {},
   "outputs": [
    {
     "name": "stdout",
     "output_type": "stream",
     "text": [
      "sex\n",
      "female    1.888769e+06\n",
      "male      1.800818e+06\n",
      "Name: population, dtype: float64\n",
      "\n",
      "\n"
     ]
    }
   ],
   "source": [
    "grouped = df.groupby('sex')\n",
    "print(grouped['population'].agg(np.mean))\n",
    "print (\"\\n\")"
   ]
  },
  {
   "cell_type": "markdown",
   "id": "9e0402f1",
   "metadata": {},
   "source": [
    "### checking for outliers"
   ]
  },
  {
   "cell_type": "code",
   "execution_count": 27,
   "id": "3bded4ad",
   "metadata": {},
   "outputs": [
    {
     "data": {
      "image/png": "[encoded data removed]",
      "text/plain": [
       "<Figure size 720x360 with 1 Axes>"
      ]
     },
     "metadata": {
      "needs_background": "light"
     },
     "output_type": "display_data"
    }
   ],
   "source": [
    "plt.figure(figsize =( 10,5))\n",
    "plt.boxplot(df[\"suicides_no\"])\n",
    "plt.show()"
   ]
  },
  {
   "cell_type": "code",
   "execution_count": 28,
   "id": "2c9c378f",
   "metadata": {},
   "outputs": [],
   "source": [
    "q1 = df['suicides_no'].quantile(0.25)\n",
    "q3 = df['suicides_no'].quantile(0.75)\n",
    "iqr = q3 - q1\n",
    "toprange = q3 + iqr * 1.5\n",
    "botrange = q1 - iqr * 1.5\n",
    "for i in df.index:\n",
    "    if df.loc[i, 'suicides_no'] > toprange:\n",
    "        df.loc[i, 'suicides_no'] = toprange\n",
    "    if df.loc[i, 'suicides_no'] < botrange:\n",
    "        df.loc[i, 'suicides_no'] = botrange"
   ]
  },
  {
   "cell_type": "code",
   "execution_count": 29,
   "id": "31840459",
   "metadata": {},
   "outputs": [
    {
     "data": {
      "text/plain": [
       "Text(0.5, 1.0, 'Cleaning values')"
      ]
     },
     "execution_count": 29,
     "metadata": {},
     "output_type": "execute_result"
    },
    {
     "data": {
      "image/png": "[encoded data removed]",
      "text/plain": [
       "<Figure size 432x288 with 1 Axes>"
      ]
     },
     "metadata": {
      "needs_background": "light"
     },
     "output_type": "display_data"
    }
   ],
   "source": [
    "plt.boxplot(df['suicides_no'], labels=['suicides_no'])\n",
    "plt.title('Cleaning values')"
   ]
  },
  {
   "cell_type": "code",
   "execution_count": 30,
   "id": "a5092927",
   "metadata": {},
   "outputs": [
    {
     "data": {
      "image/png": "[encoded data removed]",
      "text/plain": [
       "<Figure size 720x360 with 1 Axes>"
      ]
     },
     "metadata": {
      "needs_background": "light"
     },
     "output_type": "display_data"
    }
   ],
   "source": [
    "plt.figure(figsize =( 10,5))\n",
    "plt.boxplot(df[\"suicides_pop\"])\n",
    "plt.show()"
   ]
  },
  {
   "cell_type": "code",
   "execution_count": 31,
   "id": "51c6e035",
   "metadata": {},
   "outputs": [],
   "source": [
    "q1 = df['suicides_pop'].quantile(0.25)\n",
    "q3 = df['suicides_pop'].quantile(0.75)\n",
    "iqr = q3 - q1\n",
    "toprange = q3 + iqr * 1.5\n",
    "botrange = q1 - iqr * 1.5\n",
    "for i in df.index:\n",
    "    if df.loc[i, 'suicides_pop'] > toprange:\n",
    "        df.loc[i, 'suicides_pop'] = toprange\n",
    "    if df.loc[i, 'suicides_pop'] < botrange:\n",
    "        df.loc[i, 'suicides_pop'] = botrange"
   ]
  },
  {
   "cell_type": "code",
   "execution_count": 32,
   "id": "7383b4ad",
   "metadata": {},
   "outputs": [
    {
     "data": {
      "text/plain": [
       "Text(0.5, 1.0, 'Cleaning values')"
      ]
     },
     "execution_count": 32,
     "metadata": {},
     "output_type": "execute_result"
    },
    {
     "data": {
      "image/png": "[encoded data removed]",
      "text/plain": [
       "<Figure size 432x288 with 1 Axes>"
      ]
     },
     "metadata": {
      "needs_background": "light"
     },
     "output_type": "display_data"
    }
   ],
   "source": [
    "plt.boxplot(df['suicides_pop'], labels=['suicides_pop'])\n",
    "plt.title('Cleaning values')"
   ]
  },
  {
   "cell_type": "code",
   "execution_count": 33,
   "id": "95ff6fcb",
   "metadata": {},
   "outputs": [
    {
     "data": {
      "image/png": "[encoded data removed]",
      "text/plain": [
       "<Figure size 720x360 with 1 Axes>"
      ]
     },
     "metadata": {
      "needs_background": "light"
     },
     "output_type": "display_data"
    }
   ],
   "source": [
    "plt.figure(figsize =( 10,5))\n",
    "plt.boxplot(df[\"GDP_per_capital\"])\n",
    "plt.show()"
   ]
  },
  {
   "cell_type": "code",
   "execution_count": 34,
   "id": "d71708af",
   "metadata": {},
   "outputs": [],
   "source": [
    "q1 = df['GDP_per_capital'].quantile(0.25)\n",
    "q3 = df['GDP_per_capital'].quantile(0.75)\n",
    "iqr = q3 - q1\n",
    "toprange = q3 + iqr * 1.5\n",
    "botrange = q1 - iqr * 1.5\n",
    "for i in df.index:\n",
    "    if df.loc[i, 'GDP_per_capital'] > toprange:\n",
    "        df.loc[i, 'GDP_per_capital'] = toprange\n",
    "    if df.loc[i, 'GDP_per_capital'] < botrange:\n",
    "        df.loc[i, 'GDP_per_capital'] = botrange"
   ]
  },
  {
   "cell_type": "code",
   "execution_count": 35,
   "id": "154571ce",
   "metadata": {},
   "outputs": [
    {
     "data": {
      "text/plain": [
       "Text(0.5, 1.0, 'Cleaning values')"
      ]
     },
     "execution_count": 35,
     "metadata": {},
     "output_type": "execute_result"
    },
    {
     "data": {
      "image/png": "[encoded data removed]",
      "text/plain": [
       "<Figure size 432x288 with 1 Axes>"
      ]
     },
     "metadata": {
      "needs_background": "light"
     },
     "output_type": "display_data"
    }
   ],
   "source": [
    "plt.boxplot(df['GDP_per_capital'], labels=['GDP_per_capital'])\n",
    "plt.title('Cleaning values')"
   ]
  },
  {
   "cell_type": "markdown",
   "id": "a1dc0d4b",
   "metadata": {},
   "source": [
    "# Data visualization"
   ]
  },
  {
   "cell_type": "markdown",
   "id": "4a5c6af5",
   "metadata": {},
   "source": [
    "maximum and minimum number of suicide"
   ]
  },
  {
   "cell_type": "code",
   "execution_count": 36,
   "id": "00c8ed27",
   "metadata": {},
   "outputs": [
    {
     "data": {
      "text/plain": [
       "382"
      ]
     },
     "execution_count": 36,
     "metadata": {},
     "output_type": "execute_result"
    }
   ],
   "source": [
    "df.groupby(\"country\")[\"suicides_no\"].count().max()"
   ]
  },
  {
   "cell_type": "code",
   "execution_count": 37,
   "id": "baad10ef",
   "metadata": {},
   "outputs": [
    {
     "data": {
      "text/plain": [
       "10"
      ]
     },
     "execution_count": 37,
     "metadata": {},
     "output_type": "execute_result"
    }
   ],
   "source": [
    "df.groupby(\"country\")[\"suicides_no\"].count().min()"
   ]
  },
  {
   "cell_type": "markdown",
   "id": "8a3666b3",
   "metadata": {},
   "source": [
    "## What country has the highest number of suicides\n",
    "(Grouping by country and suicide_no)"
   ]
  },
  {
   "cell_type": "markdown",
   "id": "f867d145",
   "metadata": {},
   "source": [
    "This is showing us the max number for each country"
   ]
  },
  {
   "cell_type": "code",
   "execution_count": 31,
   "id": "7b0a87b3",
   "metadata": {},
   "outputs": [
    {
     "data": {
      "text/html": [
       "<div>\n",
       "<style scoped>\n",
       "    .dataframe tbody tr th:only-of-type {\n",
       "        vertical-align: middle;\n",
       "    }\n",
       "\n",
       "    .dataframe tbody tr th {\n",
       "        vertical-align: top;\n",
       "    }\n",
       "\n",
       "    .dataframe thead th {\n",
       "        text-align: right;\n",
       "    }\n",
       "</style>\n",
       "<table border=\"1\" class=\"dataframe\">\n",
       "  <thead>\n",
       "    <tr style=\"text-align: right;\">\n",
       "      <th></th>\n",
       "      <th>year</th>\n",
       "      <th>suicides_no</th>\n",
       "      <th>population</th>\n",
       "      <th>suicides_pop</th>\n",
       "      <th>GDP_per_capital</th>\n",
       "    </tr>\n",
       "    <tr>\n",
       "      <th>country</th>\n",
       "      <th></th>\n",
       "      <th></th>\n",
       "      <th></th>\n",
       "      <th></th>\n",
       "      <th></th>\n",
       "    </tr>\n",
       "  </thead>\n",
       "  <tbody>\n",
       "    <tr>\n",
       "      <th>Russian Federation</th>\n",
       "      <td>648648</td>\n",
       "      <td>1209742</td>\n",
       "      <td>3690802620</td>\n",
       "      <td>11305.13</td>\n",
       "      <td>2112096</td>\n",
       "    </tr>\n",
       "    <tr>\n",
       "      <th>United States</th>\n",
       "      <td>744000</td>\n",
       "      <td>1034013</td>\n",
       "      <td>8054027201</td>\n",
       "      <td>5140.97</td>\n",
       "      <td>14608296</td>\n",
       "    </tr>\n",
       "    <tr>\n",
       "      <th>Japan</th>\n",
       "      <td>744000</td>\n",
       "      <td>806902</td>\n",
       "      <td>3681024844</td>\n",
       "      <td>8025.23</td>\n",
       "      <td>13539888</td>\n",
       "    </tr>\n",
       "    <tr>\n",
       "      <th>France</th>\n",
       "      <td>719820</td>\n",
       "      <td>329127</td>\n",
       "      <td>1670756775</td>\n",
       "      <td>7803.25</td>\n",
       "      <td>11333328</td>\n",
       "    </tr>\n",
       "    <tr>\n",
       "      <th>Ukraine</th>\n",
       "      <td>672192</td>\n",
       "      <td>319950</td>\n",
       "      <td>1286469184</td>\n",
       "      <td>8931.66</td>\n",
       "      <td>627492</td>\n",
       "    </tr>\n",
       "    <tr>\n",
       "      <th>Germany</th>\n",
       "      <td>624780</td>\n",
       "      <td>291262</td>\n",
       "      <td>2024875612</td>\n",
       "      <td>4854.69</td>\n",
       "      <td>10971240</td>\n",
       "    </tr>\n",
       "    <tr>\n",
       "      <th>Republic of Korea</th>\n",
       "      <td>744000</td>\n",
       "      <td>261730</td>\n",
       "      <td>1354944936</td>\n",
       "      <td>9350.45</td>\n",
       "      <td>5506068</td>\n",
       "    </tr>\n",
       "    <tr>\n",
       "      <th>Brazil</th>\n",
       "      <td>744000</td>\n",
       "      <td>226613</td>\n",
       "      <td>4856093548</td>\n",
       "      <td>2174.72</td>\n",
       "      <td>2266032</td>\n",
       "    </tr>\n",
       "    <tr>\n",
       "      <th>Poland</th>\n",
       "      <td>576840</td>\n",
       "      <td>139098</td>\n",
       "      <td>866180029</td>\n",
       "      <td>4397.62</td>\n",
       "      <td>2346180</td>\n",
       "    </tr>\n",
       "    <tr>\n",
       "      <th>United Kingdom</th>\n",
       "      <td>744000</td>\n",
       "      <td>136805</td>\n",
       "      <td>1738767780</td>\n",
       "      <td>2790.92</td>\n",
       "      <td>11869908</td>\n",
       "    </tr>\n",
       "  </tbody>\n",
       "</table>\n",
       "</div>"
      ],
      "text/plain": [
       "                      year  suicides_no  population  suicides_pop  \\\n",
       "country                                                             \n",
       "Russian Federation  648648      1209742  3690802620      11305.13   \n",
       "United States       744000      1034013  8054027201       5140.97   \n",
       "Japan               744000       806902  3681024844       8025.23   \n",
       "France              719820       329127  1670756775       7803.25   \n",
       "Ukraine             672192       319950  1286469184       8931.66   \n",
       "Germany             624780       291262  2024875612       4854.69   \n",
       "Republic of Korea   744000       261730  1354944936       9350.45   \n",
       "Brazil              744000       226613  4856093548       2174.72   \n",
       "Poland              576840       139098   866180029       4397.62   \n",
       "United Kingdom      744000       136805  1738767780       2790.92   \n",
       "\n",
       "                    GDP_per_capital  \n",
       "country                              \n",
       "Russian Federation          2112096  \n",
       "United States              14608296  \n",
       "Japan                      13539888  \n",
       "France                     11333328  \n",
       "Ukraine                      627492  \n",
       "Germany                    10971240  \n",
       "Republic of Korea           5506068  \n",
       "Brazil                      2266032  \n",
       "Poland                      2346180  \n",
       "United Kingdom             11869908  "
      ]
     },
     "execution_count": 31,
     "metadata": {},
     "output_type": "execute_result"
    }
   ],
   "source": [
    "dfcs = df.groupby(\"country\").sum()\n",
    "dfcs.sort_values(\"suicides_no\", ascending=False , \n",
    "inplace = True)\n",
    "dfcs.head(10)"
   ]
  },
  {
   "cell_type": "code",
   "execution_count": 32,
   "id": "c8392975",
   "metadata": {},
   "outputs": [
    {
     "data": {
      "text/plain": [
       "<AxesSubplot:title={'center':'country with the highest number of suicides \\n 1985-2016 '}, xlabel='country'>"
      ]
     },
     "execution_count": 32,
     "metadata": {},
     "output_type": "execute_result"
    },
    {
     "data": {
      "image/png": "[encoded data removed]",
      "text/plain": [
       "<Figure size 432x288 with 1 Axes>"
      ]
     },
     "metadata": {
      "needs_background": "light"
     },
     "output_type": "display_data"
    }
   ],
   "source": [
    "dfcs[\"suicides_no\"].head(10).plot.bar(title= \"country with the highest number of suicides \\n 1985-2016 \", )\n"
   ]
  },
  {
   "cell_type": "markdown",
   "id": "1201bfb3",
   "metadata": {},
   "source": [
    "## In what year was the suicide no high (Grouping by year and suicides)"
   ]
  },
  {
   "cell_type": "code",
   "execution_count": 35,
   "id": "90a6646d",
   "metadata": {},
   "outputs": [
    {
     "data": {
      "text/html": [
       "<div>\n",
       "<style scoped>\n",
       "    .dataframe tbody tr th:only-of-type {\n",
       "        vertical-align: middle;\n",
       "    }\n",
       "\n",
       "    .dataframe tbody tr th {\n",
       "        vertical-align: top;\n",
       "    }\n",
       "\n",
       "    .dataframe thead th {\n",
       "        text-align: right;\n",
       "    }\n",
       "</style>\n",
       "<table border=\"1\" class=\"dataframe\">\n",
       "  <thead>\n",
       "    <tr style=\"text-align: right;\">\n",
       "      <th></th>\n",
       "      <th>suicides_no</th>\n",
       "      <th>population</th>\n",
       "      <th>suicides_pop</th>\n",
       "      <th>GDP_per_capital</th>\n",
       "    </tr>\n",
       "    <tr>\n",
       "      <th>year</th>\n",
       "      <th></th>\n",
       "      <th></th>\n",
       "      <th></th>\n",
       "      <th></th>\n",
       "    </tr>\n",
       "  </thead>\n",
       "  <tbody>\n",
       "    <tr>\n",
       "      <th>1999</th>\n",
       "      <td>256119</td>\n",
       "      <td>1776363155</td>\n",
       "      <td>14473.91</td>\n",
       "      <td>12780864</td>\n",
       "    </tr>\n",
       "    <tr>\n",
       "      <th>2002</th>\n",
       "      <td>256095</td>\n",
       "      <td>1822152815</td>\n",
       "      <td>14227.72</td>\n",
       "      <td>13017420</td>\n",
       "    </tr>\n",
       "    <tr>\n",
       "      <th>2003</th>\n",
       "      <td>256079</td>\n",
       "      <td>1838458020</td>\n",
       "      <td>13627.58</td>\n",
       "      <td>15187104</td>\n",
       "    </tr>\n",
       "    <tr>\n",
       "      <th>2000</th>\n",
       "      <td>255832</td>\n",
       "      <td>1799227908</td>\n",
       "      <td>14387.45</td>\n",
       "      <td>12865476</td>\n",
       "    </tr>\n",
       "    <tr>\n",
       "      <th>2001</th>\n",
       "      <td>250652</td>\n",
       "      <td>1755565489</td>\n",
       "      <td>14276.21</td>\n",
       "      <td>12677892</td>\n",
       "    </tr>\n",
       "    <tr>\n",
       "      <th>1998</th>\n",
       "      <td>249591</td>\n",
       "      <td>1725181351</td>\n",
       "      <td>14150.72</td>\n",
       "      <td>11506728</td>\n",
       "    </tr>\n",
       "    <tr>\n",
       "      <th>1996</th>\n",
       "      <td>246725</td>\n",
       "      <td>1662267662</td>\n",
       "      <td>14142.21</td>\n",
       "      <td>11600736</td>\n",
       "    </tr>\n",
       "    <tr>\n",
       "      <th>1995</th>\n",
       "      <td>243544</td>\n",
       "      <td>1591559103</td>\n",
       "      <td>14660.26</td>\n",
       "      <td>11858508</td>\n",
       "    </tr>\n",
       "    <tr>\n",
       "      <th>2009</th>\n",
       "      <td>243487</td>\n",
       "      <td>1976228366</td>\n",
       "      <td>12176.04</td>\n",
       "      <td>24145248</td>\n",
       "    </tr>\n",
       "    <tr>\n",
       "      <th>2004</th>\n",
       "      <td>240861</td>\n",
       "      <td>1745246613</td>\n",
       "      <td>12581.80</td>\n",
       "      <td>17895936</td>\n",
       "    </tr>\n",
       "  </tbody>\n",
       "</table>\n",
       "</div>"
      ],
      "text/plain": [
       "      suicides_no  population  suicides_pop  GDP_per_capital\n",
       "year                                                        \n",
       "1999       256119  1776363155      14473.91         12780864\n",
       "2002       256095  1822152815      14227.72         13017420\n",
       "2003       256079  1838458020      13627.58         15187104\n",
       "2000       255832  1799227908      14387.45         12865476\n",
       "2001       250652  1755565489      14276.21         12677892\n",
       "1998       249591  1725181351      14150.72         11506728\n",
       "1996       246725  1662267662      14142.21         11600736\n",
       "1995       243544  1591559103      14660.26         11858508\n",
       "2009       243487  1976228366      12176.04         24145248\n",
       "2004       240861  1745246613      12581.80         17895936"
      ]
     },
     "execution_count": 35,
     "metadata": {},
     "output_type": "execute_result"
    }
   ],
   "source": [
    "dfys = df.groupby(\"year\").sum()\n",
    "dfys.sort_values(\"suicides_no\", ascending=False , \n",
    "inplace = True)\n",
    "dfys.head(10)"
   ]
  },
  {
   "cell_type": "code",
   "execution_count": 40,
   "id": "b44c4b3c",
   "metadata": {},
   "outputs": [
    {
     "data": {
      "text/plain": [
       "<AxesSubplot:title={'center':'year with the highest number of suicides \\n 1985-2016 '}, xlabel='year'>"
      ]
     },
     "execution_count": 40,
     "metadata": {},
     "output_type": "execute_result"
    },
    {
     "data": {
      "image/png": "[encoded data removed]",
      "text/plain": [
       "<Figure size 432x288 with 1 Axes>"
      ]
     },
     "metadata": {
      "needs_background": "light"
     },
     "output_type": "display_data"
    }
   ],
   "source": [
    "dfys[\"suicides_no\"].head(10).plot.bar(title= \"year with the highest number of suicides \\n 1985-2016 \")\n"
   ]
  },
  {
   "cell_type": "markdown",
   "id": "130d68dc",
   "metadata": {},
   "source": [
    "## What age has the highest number of suicide (Grouping by age and suicides_no)"
   ]
  },
  {
   "cell_type": "code",
   "execution_count": 42,
   "id": "6cf64e79",
   "metadata": {},
   "outputs": [
    {
     "data": {
      "text/html": [
       "<div>\n",
       "<style scoped>\n",
       "    .dataframe tbody tr th:only-of-type {\n",
       "        vertical-align: middle;\n",
       "    }\n",
       "\n",
       "    .dataframe tbody tr th {\n",
       "        vertical-align: top;\n",
       "    }\n",
       "\n",
       "    .dataframe thead th {\n",
       "        text-align: right;\n",
       "    }\n",
       "</style>\n",
       "<table border=\"1\" class=\"dataframe\">\n",
       "  <thead>\n",
       "    <tr style=\"text-align: right;\">\n",
       "      <th></th>\n",
       "      <th>year</th>\n",
       "      <th>suicides_no</th>\n",
       "      <th>population</th>\n",
       "      <th>suicides_pop</th>\n",
       "      <th>GDP_per_capital</th>\n",
       "    </tr>\n",
       "    <tr>\n",
       "      <th>age</th>\n",
       "      <th></th>\n",
       "      <th></th>\n",
       "      <th></th>\n",
       "      <th></th>\n",
       "      <th></th>\n",
       "    </tr>\n",
       "  </thead>\n",
       "  <tbody>\n",
       "    <tr>\n",
       "      <th>35-54 years</th>\n",
       "      <td>9289920</td>\n",
       "      <td>2452141</td>\n",
       "      <td>14375888123</td>\n",
       "      <td>69386.02</td>\n",
       "      <td>78341054</td>\n",
       "    </tr>\n",
       "    <tr>\n",
       "      <th>55-74 years</th>\n",
       "      <td>9289920</td>\n",
       "      <td>1658443</td>\n",
       "      <td>8803245340</td>\n",
       "      <td>74994.20</td>\n",
       "      <td>78341054</td>\n",
       "    </tr>\n",
       "    <tr>\n",
       "      <th>25-34 years</th>\n",
       "      <td>9289920</td>\n",
       "      <td>1123912</td>\n",
       "      <td>8438103587</td>\n",
       "      <td>56571.52</td>\n",
       "      <td>78341054</td>\n",
       "    </tr>\n",
       "    <tr>\n",
       "      <th>15-24 years</th>\n",
       "      <td>9289920</td>\n",
       "      <td>808542</td>\n",
       "      <td>8642946896</td>\n",
       "      <td>41532.69</td>\n",
       "      <td>78341054</td>\n",
       "    </tr>\n",
       "    <tr>\n",
       "      <th>75+ years</th>\n",
       "      <td>9289920</td>\n",
       "      <td>653118</td>\n",
       "      <td>2663281253</td>\n",
       "      <td>111201.01</td>\n",
       "      <td>78341054</td>\n",
       "    </tr>\n",
       "    <tr>\n",
       "      <th>5-14 years</th>\n",
       "      <td>9225408</td>\n",
       "      <td>52264</td>\n",
       "      <td>8398693237</td>\n",
       "      <td>2858.39</td>\n",
       "      <td>77519770</td>\n",
       "    </tr>\n",
       "  </tbody>\n",
       "</table>\n",
       "</div>"
      ],
      "text/plain": [
       "                year  suicides_no   population  suicides_pop  GDP_per_capital\n",
       "age                                                                          \n",
       "35-54 years  9289920      2452141  14375888123      69386.02         78341054\n",
       "55-74 years  9289920      1658443   8803245340      74994.20         78341054\n",
       "25-34 years  9289920      1123912   8438103587      56571.52         78341054\n",
       "15-24 years  9289920       808542   8642946896      41532.69         78341054\n",
       "75+ years    9289920       653118   2663281253     111201.01         78341054\n",
       "5-14 years   9225408        52264   8398693237       2858.39         77519770"
      ]
     },
     "execution_count": 42,
     "metadata": {},
     "output_type": "execute_result"
    }
   ],
   "source": [
    "dfAs = df.groupby(\"age\").sum()\n",
    "dfAs.sort_values(\"suicides_no\", ascending=False , \n",
    "inplace = True)\n",
    "dfAs.head(10)"
   ]
  },
  {
   "cell_type": "code",
   "execution_count": 44,
   "id": "8cc62476",
   "metadata": {},
   "outputs": [
    {
     "data": {
      "text/plain": [
       "<AxesSubplot:title={'center':'year with the highest number of suicides \\n 1985-2016 '}, xlabel='age'>"
      ]
     },
     "execution_count": 44,
     "metadata": {},
     "output_type": "execute_result"
    },
    {
     "data": {
      "image/png": "[encoded data removed]",
      "text/plain": [
       "<Figure size 432x288 with 1 Axes>"
      ]
     },
     "metadata": {
      "needs_background": "light"
     },
     "output_type": "display_data"
    }
   ],
   "source": [
    "dfAs[\"suicides_no\"].head(10).plot.bar(title= \"year with the highest number of suicides \\n 1985-2016 \")\n"
   ]
  },
  {
   "cell_type": "markdown",
   "id": "975ca581",
   "metadata": {},
   "source": [
    "## Country with the highest number of population(Grouping by country and ppulation)"
   ]
  },
  {
   "cell_type": "code",
   "execution_count": 45,
   "id": "aa45f6c6",
   "metadata": {},
   "outputs": [
    {
     "data": {
      "text/html": [
       "<div>\n",
       "<style scoped>\n",
       "    .dataframe tbody tr th:only-of-type {\n",
       "        vertical-align: middle;\n",
       "    }\n",
       "\n",
       "    .dataframe tbody tr th {\n",
       "        vertical-align: top;\n",
       "    }\n",
       "\n",
       "    .dataframe thead th {\n",
       "        text-align: right;\n",
       "    }\n",
       "</style>\n",
       "<table border=\"1\" class=\"dataframe\">\n",
       "  <thead>\n",
       "    <tr style=\"text-align: right;\">\n",
       "      <th></th>\n",
       "      <th>year</th>\n",
       "      <th>suicides_no</th>\n",
       "      <th>population</th>\n",
       "      <th>suicides_pop</th>\n",
       "      <th>GDP_per_capital</th>\n",
       "    </tr>\n",
       "    <tr>\n",
       "      <th>country</th>\n",
       "      <th></th>\n",
       "      <th></th>\n",
       "      <th></th>\n",
       "      <th></th>\n",
       "      <th></th>\n",
       "    </tr>\n",
       "  </thead>\n",
       "  <tbody>\n",
       "    <tr>\n",
       "      <th>United States</th>\n",
       "      <td>744000</td>\n",
       "      <td>1034013</td>\n",
       "      <td>8054027201</td>\n",
       "      <td>5140.97</td>\n",
       "      <td>14608296</td>\n",
       "    </tr>\n",
       "    <tr>\n",
       "      <th>Brazil</th>\n",
       "      <td>744000</td>\n",
       "      <td>226613</td>\n",
       "      <td>4856093548</td>\n",
       "      <td>2174.72</td>\n",
       "      <td>2266032</td>\n",
       "    </tr>\n",
       "    <tr>\n",
       "      <th>Russian Federation</th>\n",
       "      <td>648648</td>\n",
       "      <td>1209742</td>\n",
       "      <td>3690802620</td>\n",
       "      <td>11305.13</td>\n",
       "      <td>2112096</td>\n",
       "    </tr>\n",
       "    <tr>\n",
       "      <th>Japan</th>\n",
       "      <td>744000</td>\n",
       "      <td>806902</td>\n",
       "      <td>3681024844</td>\n",
       "      <td>8025.23</td>\n",
       "      <td>13539888</td>\n",
       "    </tr>\n",
       "    <tr>\n",
       "      <th>Mexico</th>\n",
       "      <td>744000</td>\n",
       "      <td>111139</td>\n",
       "      <td>2772959159</td>\n",
       "      <td>1751.19</td>\n",
       "      <td>2655504</td>\n",
       "    </tr>\n",
       "    <tr>\n",
       "      <th>Germany</th>\n",
       "      <td>624780</td>\n",
       "      <td>291262</td>\n",
       "      <td>2024875612</td>\n",
       "      <td>4854.69</td>\n",
       "      <td>10971240</td>\n",
       "    </tr>\n",
       "    <tr>\n",
       "      <th>United Kingdom</th>\n",
       "      <td>744000</td>\n",
       "      <td>136805</td>\n",
       "      <td>1738767780</td>\n",
       "      <td>2790.92</td>\n",
       "      <td>11869908</td>\n",
       "    </tr>\n",
       "    <tr>\n",
       "      <th>Italy</th>\n",
       "      <td>744000</td>\n",
       "      <td>132060</td>\n",
       "      <td>1715043704</td>\n",
       "      <td>3168.87</td>\n",
       "      <td>9896160</td>\n",
       "    </tr>\n",
       "    <tr>\n",
       "      <th>France</th>\n",
       "      <td>719820</td>\n",
       "      <td>329127</td>\n",
       "      <td>1670756775</td>\n",
       "      <td>7803.25</td>\n",
       "      <td>11333328</td>\n",
       "    </tr>\n",
       "    <tr>\n",
       "      <th>Thailand</th>\n",
       "      <td>668508</td>\n",
       "      <td>110643</td>\n",
       "      <td>1584800281</td>\n",
       "      <td>2362.67</td>\n",
       "      <td>1193102</td>\n",
       "    </tr>\n",
       "  </tbody>\n",
       "</table>\n",
       "</div>"
      ],
      "text/plain": [
       "                      year  suicides_no  population  suicides_pop  \\\n",
       "country                                                             \n",
       "United States       744000      1034013  8054027201       5140.97   \n",
       "Brazil              744000       226613  4856093548       2174.72   \n",
       "Russian Federation  648648      1209742  3690802620      11305.13   \n",
       "Japan               744000       806902  3681024844       8025.23   \n",
       "Mexico              744000       111139  2772959159       1751.19   \n",
       "Germany             624780       291262  2024875612       4854.69   \n",
       "United Kingdom      744000       136805  1738767780       2790.92   \n",
       "Italy               744000       132060  1715043704       3168.87   \n",
       "France              719820       329127  1670756775       7803.25   \n",
       "Thailand            668508       110643  1584800281       2362.67   \n",
       "\n",
       "                    GDP_per_capital  \n",
       "country                              \n",
       "United States              14608296  \n",
       "Brazil                      2266032  \n",
       "Russian Federation          2112096  \n",
       "Japan                      13539888  \n",
       "Mexico                      2655504  \n",
       "Germany                    10971240  \n",
       "United Kingdom             11869908  \n",
       "Italy                       9896160  \n",
       "France                     11333328  \n",
       "Thailand                    1193102  "
      ]
     },
     "execution_count": 45,
     "metadata": {},
     "output_type": "execute_result"
    }
   ],
   "source": [
    "dfcp= df.groupby(\"country\").sum()\n",
    "dfcp.sort_values(\"population\", ascending=False , \n",
    "inplace = True)\n",
    "dfcp.head(10)"
   ]
  },
  {
   "cell_type": "code",
   "execution_count": 46,
   "id": "62d01239",
   "metadata": {},
   "outputs": [
    {
     "data": {
      "text/plain": [
       "<AxesSubplot:title={'center':'country with the highest number of population \\n 1985-2016 '}, xlabel='country'>"
      ]
     },
     "execution_count": 46,
     "metadata": {},
     "output_type": "execute_result"
    },
    {
     "data": {
      "image/png": "[encoded data removed]",
      "text/plain": [
       "<Figure size 432x288 with 1 Axes>"
      ]
     },
     "metadata": {
      "needs_background": "light"
     },
     "output_type": "display_data"
    }
   ],
   "source": [
    "dfcp[\"population\"].head(10).plot.bar(color = \"purple\",title= \"country with the highest number of population \\n 1985-2016 \")\n"
   ]
  },
  {
   "cell_type": "markdown",
   "id": "123561e6",
   "metadata": {},
   "source": [
    "## In what year was the highest no of suicide_pop (group by year and suicide_pop)"
   ]
  },
  {
   "cell_type": "code",
   "execution_count": 47,
   "id": "ecf50152",
   "metadata": {},
   "outputs": [
    {
     "data": {
      "text/html": [
       "<div>\n",
       "<style scoped>\n",
       "    .dataframe tbody tr th:only-of-type {\n",
       "        vertical-align: middle;\n",
       "    }\n",
       "\n",
       "    .dataframe tbody tr th {\n",
       "        vertical-align: top;\n",
       "    }\n",
       "\n",
       "    .dataframe thead th {\n",
       "        text-align: right;\n",
       "    }\n",
       "</style>\n",
       "<table border=\"1\" class=\"dataframe\">\n",
       "  <thead>\n",
       "    <tr style=\"text-align: right;\">\n",
       "      <th></th>\n",
       "      <th>suicides_no</th>\n",
       "      <th>population</th>\n",
       "      <th>suicides_pop</th>\n",
       "      <th>GDP_per_capital</th>\n",
       "    </tr>\n",
       "    <tr>\n",
       "      <th>year</th>\n",
       "      <th></th>\n",
       "      <th></th>\n",
       "      <th></th>\n",
       "      <th></th>\n",
       "    </tr>\n",
       "  </thead>\n",
       "  <tbody>\n",
       "    <tr>\n",
       "      <th>1995</th>\n",
       "      <td>243544</td>\n",
       "      <td>1591559103</td>\n",
       "      <td>14660.26</td>\n",
       "      <td>11858508</td>\n",
       "    </tr>\n",
       "    <tr>\n",
       "      <th>1999</th>\n",
       "      <td>256119</td>\n",
       "      <td>1776363155</td>\n",
       "      <td>14473.91</td>\n",
       "      <td>12780864</td>\n",
       "    </tr>\n",
       "    <tr>\n",
       "      <th>2000</th>\n",
       "      <td>255832</td>\n",
       "      <td>1799227908</td>\n",
       "      <td>14387.45</td>\n",
       "      <td>12865476</td>\n",
       "    </tr>\n",
       "    <tr>\n",
       "      <th>2001</th>\n",
       "      <td>250652</td>\n",
       "      <td>1755565489</td>\n",
       "      <td>14276.21</td>\n",
       "      <td>12677892</td>\n",
       "    </tr>\n",
       "    <tr>\n",
       "      <th>2002</th>\n",
       "      <td>256095</td>\n",
       "      <td>1822152815</td>\n",
       "      <td>14227.72</td>\n",
       "      <td>13017420</td>\n",
       "    </tr>\n",
       "    <tr>\n",
       "      <th>1998</th>\n",
       "      <td>249591</td>\n",
       "      <td>1725181351</td>\n",
       "      <td>14150.72</td>\n",
       "      <td>11506728</td>\n",
       "    </tr>\n",
       "    <tr>\n",
       "      <th>1996</th>\n",
       "      <td>246725</td>\n",
       "      <td>1662267662</td>\n",
       "      <td>14142.21</td>\n",
       "      <td>11600736</td>\n",
       "    </tr>\n",
       "    <tr>\n",
       "      <th>1997</th>\n",
       "      <td>240745</td>\n",
       "      <td>1702991519</td>\n",
       "      <td>13817.83</td>\n",
       "      <td>11398596</td>\n",
       "    </tr>\n",
       "    <tr>\n",
       "      <th>2003</th>\n",
       "      <td>256079</td>\n",
       "      <td>1838458020</td>\n",
       "      <td>13627.58</td>\n",
       "      <td>15187104</td>\n",
       "    </tr>\n",
       "    <tr>\n",
       "      <th>2004</th>\n",
       "      <td>240861</td>\n",
       "      <td>1745246613</td>\n",
       "      <td>12581.80</td>\n",
       "      <td>17895936</td>\n",
       "    </tr>\n",
       "  </tbody>\n",
       "</table>\n",
       "</div>"
      ],
      "text/plain": [
       "      suicides_no  population  suicides_pop  GDP_per_capital\n",
       "year                                                        \n",
       "1995       243544  1591559103      14660.26         11858508\n",
       "1999       256119  1776363155      14473.91         12780864\n",
       "2000       255832  1799227908      14387.45         12865476\n",
       "2001       250652  1755565489      14276.21         12677892\n",
       "2002       256095  1822152815      14227.72         13017420\n",
       "1998       249591  1725181351      14150.72         11506728\n",
       "1996       246725  1662267662      14142.21         11600736\n",
       "1997       240745  1702991519      13817.83         11398596\n",
       "2003       256079  1838458020      13627.58         15187104\n",
       "2004       240861  1745246613      12581.80         17895936"
      ]
     },
     "execution_count": 47,
     "metadata": {},
     "output_type": "execute_result"
    }
   ],
   "source": [
    "dfypp= df.groupby(\"year\").sum()\n",
    "dfypp.sort_values(\"suicides_pop\", ascending=False , \n",
    "inplace = True)\n",
    "dfypp.head(10)"
   ]
  },
  {
   "cell_type": "code",
   "execution_count": 48,
   "id": "3c11bf9f",
   "metadata": {},
   "outputs": [
    {
     "data": {
      "text/plain": [
       "<AxesSubplot:title={'center':'year with the highest number of suicides_pop \\n 1985-2016 '}, xlabel='year'>"
      ]
     },
     "execution_count": 48,
     "metadata": {},
     "output_type": "execute_result"
    },
    {
     "data": {
      "image/png": "[encoded data removed]",
      "text/plain": [
       "<Figure size 432x288 with 1 Axes>"
      ]
     },
     "metadata": {
      "needs_background": "light"
     },
     "output_type": "display_data"
    }
   ],
   "source": [
    "dfypp[\"suicides_pop\"].head(10).plot.bar(title= \"year with the highest number of suicides_pop \\n 1985-2016 \")\n"
   ]
  },
  {
   "cell_type": "markdown",
   "id": "f8812e22",
   "metadata": {},
   "source": [
    "## What country has the highest no of suicide_pop (Group by country and suicide_pop)"
   ]
  },
  {
   "cell_type": "code",
   "execution_count": 49,
   "id": "21f495e6",
   "metadata": {},
   "outputs": [
    {
     "data": {
      "text/html": [
       "<div>\n",
       "<style scoped>\n",
       "    .dataframe tbody tr th:only-of-type {\n",
       "        vertical-align: middle;\n",
       "    }\n",
       "\n",
       "    .dataframe tbody tr th {\n",
       "        vertical-align: top;\n",
       "    }\n",
       "\n",
       "    .dataframe thead th {\n",
       "        text-align: right;\n",
       "    }\n",
       "</style>\n",
       "<table border=\"1\" class=\"dataframe\">\n",
       "  <thead>\n",
       "    <tr style=\"text-align: right;\">\n",
       "      <th></th>\n",
       "      <th>year</th>\n",
       "      <th>suicides_no</th>\n",
       "      <th>population</th>\n",
       "      <th>suicides_pop</th>\n",
       "      <th>GDP_per_capital</th>\n",
       "    </tr>\n",
       "    <tr>\n",
       "      <th>country</th>\n",
       "      <th></th>\n",
       "      <th></th>\n",
       "      <th></th>\n",
       "      <th></th>\n",
       "      <th></th>\n",
       "    </tr>\n",
       "  </thead>\n",
       "  <tbody>\n",
       "    <tr>\n",
       "      <th>Russian Federation</th>\n",
       "      <td>648648</td>\n",
       "      <td>1209742</td>\n",
       "      <td>3690802620</td>\n",
       "      <td>11305.13</td>\n",
       "      <td>2112096</td>\n",
       "    </tr>\n",
       "    <tr>\n",
       "      <th>Lithuania</th>\n",
       "      <td>525420</td>\n",
       "      <td>28039</td>\n",
       "      <td>68085210</td>\n",
       "      <td>10588.88</td>\n",
       "      <td>2431504</td>\n",
       "    </tr>\n",
       "    <tr>\n",
       "      <th>Hungary</th>\n",
       "      <td>621060</td>\n",
       "      <td>73891</td>\n",
       "      <td>248644256</td>\n",
       "      <td>10156.07</td>\n",
       "      <td>2904716</td>\n",
       "    </tr>\n",
       "    <tr>\n",
       "      <th>Kazakhstan</th>\n",
       "      <td>624780</td>\n",
       "      <td>101546</td>\n",
       "      <td>377513869</td>\n",
       "      <td>9519.52</td>\n",
       "      <td>1662684</td>\n",
       "    </tr>\n",
       "    <tr>\n",
       "      <th>Republic of Korea</th>\n",
       "      <td>744000</td>\n",
       "      <td>261730</td>\n",
       "      <td>1354944936</td>\n",
       "      <td>9350.45</td>\n",
       "      <td>5506068</td>\n",
       "    </tr>\n",
       "    <tr>\n",
       "      <th>Austria</th>\n",
       "      <td>764160</td>\n",
       "      <td>50073</td>\n",
       "      <td>243853094</td>\n",
       "      <td>9076.23</td>\n",
       "      <td>13088000</td>\n",
       "    </tr>\n",
       "    <tr>\n",
       "      <th>Ukraine</th>\n",
       "      <td>672192</td>\n",
       "      <td>319950</td>\n",
       "      <td>1286469184</td>\n",
       "      <td>8931.66</td>\n",
       "      <td>627492</td>\n",
       "    </tr>\n",
       "    <tr>\n",
       "      <th>Japan</th>\n",
       "      <td>744000</td>\n",
       "      <td>806902</td>\n",
       "      <td>3681024844</td>\n",
       "      <td>8025.23</td>\n",
       "      <td>13539888</td>\n",
       "    </tr>\n",
       "    <tr>\n",
       "      <th>Finland</th>\n",
       "      <td>696348</td>\n",
       "      <td>33677</td>\n",
       "      <td>141925658</td>\n",
       "      <td>7924.11</td>\n",
       "      <td>12342960</td>\n",
       "    </tr>\n",
       "    <tr>\n",
       "      <th>Belgium</th>\n",
       "      <td>744000</td>\n",
       "      <td>62761</td>\n",
       "      <td>303302621</td>\n",
       "      <td>7900.50</td>\n",
       "      <td>11928828</td>\n",
       "    </tr>\n",
       "  </tbody>\n",
       "</table>\n",
       "</div>"
      ],
      "text/plain": [
       "                      year  suicides_no  population  suicides_pop  \\\n",
       "country                                                             \n",
       "Russian Federation  648648      1209742  3690802620      11305.13   \n",
       "Lithuania           525420        28039    68085210      10588.88   \n",
       "Hungary             621060        73891   248644256      10156.07   \n",
       "Kazakhstan          624780       101546   377513869       9519.52   \n",
       "Republic of Korea   744000       261730  1354944936       9350.45   \n",
       "Austria             764160        50073   243853094       9076.23   \n",
       "Ukraine             672192       319950  1286469184       8931.66   \n",
       "Japan               744000       806902  3681024844       8025.23   \n",
       "Finland             696348        33677   141925658       7924.11   \n",
       "Belgium             744000        62761   303302621       7900.50   \n",
       "\n",
       "                    GDP_per_capital  \n",
       "country                              \n",
       "Russian Federation          2112096  \n",
       "Lithuania                   2431504  \n",
       "Hungary                     2904716  \n",
       "Kazakhstan                  1662684  \n",
       "Republic of Korea           5506068  \n",
       "Austria                    13088000  \n",
       "Ukraine                      627492  \n",
       "Japan                      13539888  \n",
       "Finland                    12342960  \n",
       "Belgium                    11928828  "
      ]
     },
     "execution_count": 49,
     "metadata": {},
     "output_type": "execute_result"
    }
   ],
   "source": [
    "dfcsp= df.groupby(\"country\").sum()\n",
    "dfcsp.sort_values(\"suicides_pop\", ascending=False , \n",
    "inplace = True)\n",
    "dfcsp.head(10)"
   ]
  },
  {
   "cell_type": "code",
   "execution_count": 49,
   "id": "4f79aacf",
   "metadata": {},
   "outputs": [
    {
     "data": {
      "text/plain": [
       "<AxesSubplot:title={'center':'year with the highest number of suicides_pop \\n 1985-2016 '}, xlabel='country'>"
      ]
     },
     "execution_count": 49,
     "metadata": {},
     "output_type": "execute_result"
    },
    {
     "data": {
      "image/png": "[encoded data removed]",
      "text/plain": [
       "<Figure size 432x288 with 1 Axes>"
      ]
     },
     "metadata": {
      "needs_background": "light"
     },
     "output_type": "display_data"
    }
   ],
   "source": [
    "dfcsp[\"suicides_pop\"].head(10).plot.bar(title= \"year with the highest number of suicides_pop \\n 1985-2016 \")"
   ]
  },
  {
   "cell_type": "markdown",
   "id": "7867b54d",
   "metadata": {},
   "source": [
    "## What sex has the heighest number of suicides"
   ]
  },
  {
   "cell_type": "code",
   "execution_count": 50,
   "id": "a2021ecd",
   "metadata": {},
   "outputs": [
    {
     "data": {
      "text/html": [
       "<div>\n",
       "<style scoped>\n",
       "    .dataframe tbody tr th:only-of-type {\n",
       "        vertical-align: middle;\n",
       "    }\n",
       "\n",
       "    .dataframe tbody tr th {\n",
       "        vertical-align: top;\n",
       "    }\n",
       "\n",
       "    .dataframe thead th {\n",
       "        text-align: right;\n",
       "    }\n",
       "</style>\n",
       "<table border=\"1\" class=\"dataframe\">\n",
       "  <thead>\n",
       "    <tr style=\"text-align: right;\">\n",
       "      <th></th>\n",
       "      <th>year</th>\n",
       "      <th>suicides_no</th>\n",
       "      <th>population</th>\n",
       "      <th>suicides_pop</th>\n",
       "      <th>GDP_per_capital</th>\n",
       "    </tr>\n",
       "    <tr>\n",
       "      <th>sex</th>\n",
       "      <th></th>\n",
       "      <th></th>\n",
       "      <th></th>\n",
       "      <th></th>\n",
       "      <th></th>\n",
       "    </tr>\n",
       "  </thead>\n",
       "  <tbody>\n",
       "    <tr>\n",
       "      <th>male</th>\n",
       "      <td>27837504</td>\n",
       "      <td>5188910</td>\n",
       "      <td>25049376579</td>\n",
       "      <td>281529.06</td>\n",
       "      <td>234612520</td>\n",
       "    </tr>\n",
       "    <tr>\n",
       "      <th>female</th>\n",
       "      <td>27837504</td>\n",
       "      <td>1559510</td>\n",
       "      <td>26272781857</td>\n",
       "      <td>75014.77</td>\n",
       "      <td>234612520</td>\n",
       "    </tr>\n",
       "  </tbody>\n",
       "</table>\n",
       "</div>"
      ],
      "text/plain": [
       "            year  suicides_no   population  suicides_pop  GDP_per_capital\n",
       "sex                                                                      \n",
       "male    27837504      5188910  25049376579     281529.06        234612520\n",
       "female  27837504      1559510  26272781857      75014.77        234612520"
      ]
     },
     "execution_count": 50,
     "metadata": {},
     "output_type": "execute_result"
    }
   ],
   "source": [
    "dfss= df.groupby(\"sex\").sum()\n",
    "dfss.sort_values(\"suicides_no\", ascending=False , \n",
    "inplace = True)\n",
    "dfss.head(10)"
   ]
  },
  {
   "cell_type": "code",
   "execution_count": 51,
   "id": "5c986328",
   "metadata": {},
   "outputs": [
    {
     "data": {
      "image/png": "[encoded data removed]",
      "text/plain": [
       "<Figure size 576x432 with 1 Axes>"
      ]
     },
     "metadata": {
      "needs_background": "light"
     },
     "output_type": "display_data"
    }
   ],
   "source": [
    "plt.figure(figsize=(8,6))\n",
    "sns.barplot(x = df[\"sex\"], y = df[\"suicides_no\"])\n",
    "plt.xlabel = (\"sex\")\n",
    "plt.ylabel(\"suicide_no\")\n",
    "plt.title (\"suicide_no, sex\")\n",
    "plt.show()"
   ]
  },
  {
   "cell_type": "markdown",
   "id": "09e0b11f",
   "metadata": {},
   "source": [
    "## Corrolation between year, population, suicides_no, suicides_pop, year, GDP_per_capital"
   ]
  },
  {
   "cell_type": "code",
   "execution_count": 52,
   "id": "92e5e05f",
   "metadata": {},
   "outputs": [
    {
     "data": {
      "image/png": "[encoded data removed]",
      "text/plain": [
       "<Figure size 1080x720 with 2 Axes>"
      ]
     },
     "metadata": {
      "needs_background": "light"
     },
     "output_type": "display_data"
    }
   ],
   "source": [
    "plt.figure(figsize=(15, 10))\n",
    "sns.heatmap(df.loc[:, ['year', 'population','suicides_no', 'suicides_pop','year','GDP_per_capital']].corr(), annot=True,)\n",
    "plt.title('Correlation between year, population ,suicides_no , suicides_pop, year, GDP_per_capital')\n",
    "plt.show()"
   ]
  },
  {
   "cell_type": "markdown",
   "id": "e836e38e",
   "metadata": {},
   "source": [
    "## In which generation was  suicide number high"
   ]
  },
  {
   "cell_type": "code",
   "execution_count": 55,
   "id": "8b6f1263",
   "metadata": {},
   "outputs": [
    {
     "data": {
      "text/html": [
       "<div>\n",
       "<style scoped>\n",
       "    .dataframe tbody tr th:only-of-type {\n",
       "        vertical-align: middle;\n",
       "    }\n",
       "\n",
       "    .dataframe tbody tr th {\n",
       "        vertical-align: top;\n",
       "    }\n",
       "\n",
       "    .dataframe thead th {\n",
       "        text-align: right;\n",
       "    }\n",
       "</style>\n",
       "<table border=\"1\" class=\"dataframe\">\n",
       "  <thead>\n",
       "    <tr style=\"text-align: right;\">\n",
       "      <th></th>\n",
       "      <th>year</th>\n",
       "      <th>suicides_no</th>\n",
       "      <th>population</th>\n",
       "      <th>suicides_pop</th>\n",
       "      <th>GDP_per_capital</th>\n",
       "    </tr>\n",
       "    <tr>\n",
       "      <th>generation</th>\n",
       "      <th></th>\n",
       "      <th></th>\n",
       "      <th></th>\n",
       "      <th></th>\n",
       "      <th></th>\n",
       "    </tr>\n",
       "  </thead>\n",
       "  <tbody>\n",
       "    <tr>\n",
       "      <th>Boomers</th>\n",
       "      <td>9980242</td>\n",
       "      <td>2284498</td>\n",
       "      <td>13350511729</td>\n",
       "      <td>73563.05</td>\n",
       "      <td>79750168</td>\n",
       "    </tr>\n",
       "    <tr>\n",
       "      <th>Silent</th>\n",
       "      <td>12743414</td>\n",
       "      <td>1781744</td>\n",
       "      <td>9220331647</td>\n",
       "      <td>117217.55</td>\n",
       "      <td>111948324</td>\n",
       "    </tr>\n",
       "    <tr>\n",
       "      <th>Generation X</th>\n",
       "      <td>12813552</td>\n",
       "      <td>1532804</td>\n",
       "      <td>13472109292</td>\n",
       "      <td>67648.45</td>\n",
       "      <td>99996594</td>\n",
       "    </tr>\n",
       "    <tr>\n",
       "      <th>Millenials</th>\n",
       "      <td>11715748</td>\n",
       "      <td>623459</td>\n",
       "      <td>10649461202</td>\n",
       "      <td>31461.74</td>\n",
       "      <td>111331886</td>\n",
       "    </tr>\n",
       "    <tr>\n",
       "      <th>G.I. Generation</th>\n",
       "      <td>5466166</td>\n",
       "      <td>510009</td>\n",
       "      <td>2126202724</td>\n",
       "      <td>65708.86</td>\n",
       "      <td>28519510</td>\n",
       "    </tr>\n",
       "    <tr>\n",
       "      <th>Generation Z</th>\n",
       "      <td>2955886</td>\n",
       "      <td>15906</td>\n",
       "      <td>2503541842</td>\n",
       "      <td>944.18</td>\n",
       "      <td>37678558</td>\n",
       "    </tr>\n",
       "  </tbody>\n",
       "</table>\n",
       "</div>"
      ],
      "text/plain": [
       "                     year  suicides_no   population  suicides_pop  \\\n",
       "generation                                                          \n",
       "Boomers           9980242      2284498  13350511729      73563.05   \n",
       "Silent           12743414      1781744   9220331647     117217.55   \n",
       "Generation X     12813552      1532804  13472109292      67648.45   \n",
       "Millenials       11715748       623459  10649461202      31461.74   \n",
       "G.I. Generation   5466166       510009   2126202724      65708.86   \n",
       "Generation Z      2955886        15906   2503541842        944.18   \n",
       "\n",
       "                 GDP_per_capital  \n",
       "generation                        \n",
       "Boomers                 79750168  \n",
       "Silent                 111948324  \n",
       "Generation X            99996594  \n",
       "Millenials             111331886  \n",
       "G.I. Generation         28519510  \n",
       "Generation Z            37678558  "
      ]
     },
     "execution_count": 55,
     "metadata": {},
     "output_type": "execute_result"
    }
   ],
   "source": [
    "dfgs=df.groupby(\"generation\").sum()\n",
    "dfgs.sort_values(\"suicides_no\", ascending=False , \n",
    "inplace = True)\n",
    "dfgs.head(10)"
   ]
  },
  {
   "cell_type": "code",
   "execution_count": 56,
   "id": "c25062df",
   "metadata": {},
   "outputs": [
    {
     "data": {
      "text/plain": [
       "<AxesSubplot:title={'center':'generation with the highest number of suicides_no \\n 1985-2016 '}, xlabel='generation'>"
      ]
     },
     "execution_count": 56,
     "metadata": {},
     "output_type": "execute_result"
    },
    {
     "data": {
      "image/png": "[encoded data removed]",
      "text/plain": [
       "<Figure size 432x288 with 1 Axes>"
      ]
     },
     "metadata": {
      "needs_background": "light"
     },
     "output_type": "display_data"
    }
   ],
   "source": [
    "dfgs[\"suicides_no\"].head(10).plot.bar(color= \"red\", title= \"generation with the highest number of suicides_no \\n 1985-2016 \")"
   ]
  },
  {
   "cell_type": "markdown",
   "id": "fa2ed2e0",
   "metadata": {},
   "source": [
    "## counties without suicide number (Group by coutry and suicides_no)"
   ]
  },
  {
   "cell_type": "code",
   "execution_count": 57,
   "id": "38e942f1",
   "metadata": {},
   "outputs": [
    {
     "data": {
      "text/html": [
       "<div>\n",
       "<style scoped>\n",
       "    .dataframe tbody tr th:only-of-type {\n",
       "        vertical-align: middle;\n",
       "    }\n",
       "\n",
       "    .dataframe tbody tr th {\n",
       "        vertical-align: top;\n",
       "    }\n",
       "\n",
       "    .dataframe thead th {\n",
       "        text-align: right;\n",
       "    }\n",
       "</style>\n",
       "<table border=\"1\" class=\"dataframe\">\n",
       "  <thead>\n",
       "    <tr style=\"text-align: right;\">\n",
       "      <th></th>\n",
       "      <th>year</th>\n",
       "      <th>suicides_no</th>\n",
       "      <th>population</th>\n",
       "      <th>suicides_pop</th>\n",
       "      <th>GDP_per_capital</th>\n",
       "    </tr>\n",
       "    <tr>\n",
       "      <th>country</th>\n",
       "      <th></th>\n",
       "      <th></th>\n",
       "      <th></th>\n",
       "      <th></th>\n",
       "      <th></th>\n",
       "    </tr>\n",
       "  </thead>\n",
       "  <tbody>\n",
       "    <tr>\n",
       "      <th>Dominica</th>\n",
       "      <td>23820</td>\n",
       "      <td>0</td>\n",
       "      <td>66400</td>\n",
       "      <td>0.00</td>\n",
       "      <td>17820</td>\n",
       "    </tr>\n",
       "    <tr>\n",
       "      <th>Saint Kitts and Nevis</th>\n",
       "      <td>71676</td>\n",
       "      <td>0</td>\n",
       "      <td>117300</td>\n",
       "      <td>0.00</td>\n",
       "      <td>198900</td>\n",
       "    </tr>\n",
       "    <tr>\n",
       "      <th>San Marino</th>\n",
       "      <td>72048</td>\n",
       "      <td>4</td>\n",
       "      <td>78825</td>\n",
       "      <td>145.62</td>\n",
       "      <td>1931892</td>\n",
       "    </tr>\n",
       "    <tr>\n",
       "      <th>Antigua and Barbuda</th>\n",
       "      <td>647832</td>\n",
       "      <td>11</td>\n",
       "      <td>1990228</td>\n",
       "      <td>179.14</td>\n",
       "      <td>3385212</td>\n",
       "    </tr>\n",
       "    <tr>\n",
       "      <th>Maldives</th>\n",
       "      <td>240612</td>\n",
       "      <td>20</td>\n",
       "      <td>2900246</td>\n",
       "      <td>164.08</td>\n",
       "      <td>610668</td>\n",
       "    </tr>\n",
       "    <tr>\n",
       "      <th>Macau</th>\n",
       "      <td>23928</td>\n",
       "      <td>27</td>\n",
       "      <td>346542</td>\n",
       "      <td>171.74</td>\n",
       "      <td>216972</td>\n",
       "    </tr>\n",
       "    <tr>\n",
       "      <th>Oman</th>\n",
       "      <td>72396</td>\n",
       "      <td>33</td>\n",
       "      <td>8987087</td>\n",
       "      <td>26.50</td>\n",
       "      <td>746664</td>\n",
       "    </tr>\n",
       "    <tr>\n",
       "      <th>Grenada</th>\n",
       "      <td>620556</td>\n",
       "      <td>38</td>\n",
       "      <td>2347286</td>\n",
       "      <td>661.00</td>\n",
       "      <td>1924916</td>\n",
       "    </tr>\n",
       "    <tr>\n",
       "      <th>Cabo Verde</th>\n",
       "      <td>24132</td>\n",
       "      <td>42</td>\n",
       "      <td>452179</td>\n",
       "      <td>133.84</td>\n",
       "      <td>49488</td>\n",
       "    </tr>\n",
       "    <tr>\n",
       "      <th>Kiribati</th>\n",
       "      <td>263472</td>\n",
       "      <td>53</td>\n",
       "      <td>741606</td>\n",
       "      <td>878.51</td>\n",
       "      <td>115620</td>\n",
       "    </tr>\n",
       "  </tbody>\n",
       "</table>\n",
       "</div>"
      ],
      "text/plain": [
       "                         year  suicides_no  population  suicides_pop  \\\n",
       "country                                                                \n",
       "Dominica                23820            0       66400          0.00   \n",
       "Saint Kitts and Nevis   71676            0      117300          0.00   \n",
       "San Marino              72048            4       78825        145.62   \n",
       "Antigua and Barbuda    647832           11     1990228        179.14   \n",
       "Maldives               240612           20     2900246        164.08   \n",
       "Macau                   23928           27      346542        171.74   \n",
       "Oman                    72396           33     8987087         26.50   \n",
       "Grenada                620556           38     2347286        661.00   \n",
       "Cabo Verde              24132           42      452179        133.84   \n",
       "Kiribati               263472           53      741606        878.51   \n",
       "\n",
       "                       GDP_per_capital  \n",
       "country                                 \n",
       "Dominica                         17820  \n",
       "Saint Kitts and Nevis           198900  \n",
       "San Marino                     1931892  \n",
       "Antigua and Barbuda            3385212  \n",
       "Maldives                        610668  \n",
       "Macau                           216972  \n",
       "Oman                            746664  \n",
       "Grenada                        1924916  \n",
       "Cabo Verde                       49488  \n",
       "Kiribati                        115620  "
      ]
     },
     "execution_count": 57,
     "metadata": {},
     "output_type": "execute_result"
    }
   ],
   "source": [
    "dfcs=df.groupby(\"country\").sum()\n",
    "dfcs.sort_values(\"suicides_no\", ascending=True , \n",
    "inplace = True)\n",
    "dfcs.head(10)"
   ]
  },
  {
   "cell_type": "code",
   "execution_count": 58,
   "id": "d6d9a7c4",
   "metadata": {},
   "outputs": [
    {
     "data": {
      "text/plain": [
       "<AxesSubplot:title={'center':'sex with the highest number of suicides_no \\n 1985-2016 '}, xlabel='country'>"
      ]
     },
     "execution_count": 58,
     "metadata": {},
     "output_type": "execute_result"
    },
    {
     "data": {
      "image/png": "[encoded data removed]",
      "text/plain": [
       "<Figure size 432x288 with 1 Axes>"
      ]
     },
     "metadata": {
      "needs_background": "light"
     },
     "output_type": "display_data"
    }
   ],
   "source": [
    "dfcs[\"suicides_no\"].head(10).plot.bar(color = \"Green\",title= \"sex with the highest number of suicides_no \\n 1985-2016 \")\n"
   ]
  },
  {
   "cell_type": "markdown",
   "id": "2e57ae07",
   "metadata": {},
   "source": [
    "## Suicides_no by  Sex"
   ]
  },
  {
   "cell_type": "code",
   "execution_count": 57,
   "id": "b3da021a",
   "metadata": {},
   "outputs": [
    {
     "data": {
      "image/png": "[encoded data removed]",
      "text/plain": [
       "<Figure size 720x576 with 1 Axes>"
      ]
     },
     "metadata": {
      "needs_background": "light"
     },
     "output_type": "display_data"
    }
   ],
   "source": [
    "plt.figure(figsize=(10,8))\n",
    "sns.barplot(x = df[\"sex\"], y = df[\"suicides_no\"], hue = df[\"age\"])\n",
    "plt.xlabel = (\"sex\")\n",
    "plt.ylabel(\"suicides_no\")\n",
    "plt.title (\"suicides no by sex \")\n",
    "plt.show()"
   ]
  },
  {
   "cell_type": "markdown",
   "id": "d2b8aebe",
   "metadata": {},
   "source": [
    "## GDP_per_capital by generation"
   ]
  },
  {
   "cell_type": "code",
   "execution_count": 58,
   "id": "6ab9e78a",
   "metadata": {},
   "outputs": [
    {
     "data": {
      "image/png": "[encoded data removed]",
      "text/plain": [
       "<Figure size 720x576 with 1 Axes>"
      ]
     },
     "metadata": {
      "needs_background": "light"
     },
     "output_type": "display_data"
    }
   ],
   "source": [
    "plt.figure(figsize=(10,8))\n",
    "sns.barplot(x = df[\"generation\"], y = df[\"GDP_per_capital\"], hue = df[\"age\"])\n",
    "plt.xlabel = (\"generation\")\n",
    "plt.ylabel(\"GDP_per_capital\")\n",
    "plt.title (\"GDP_per_capital, generation\")\n",
    "plt.show()"
   ]
  },
  {
   "cell_type": "markdown",
   "id": "1c301af5",
   "metadata": {},
   "source": [
    "##  Suicides_no by  age"
   ]
  },
  {
   "cell_type": "code",
   "execution_count": 60,
   "id": "b44b95df",
   "metadata": {},
   "outputs": [
    {
     "data": {
      "image/png": "[encoded data removed]",
      "text/plain": [
       "<Figure size 720x576 with 1 Axes>"
      ]
     },
     "metadata": {
      "needs_background": "light"
     },
     "output_type": "display_data"
    }
   ],
   "source": [
    "plt.figure(figsize=(10,8))\n",
    "sns.barplot(x = df[\"age\"], y = df[\"suicides_no\"], hue = df[\"sex\"])\n",
    "plt.xlabel = (\"Age\")\n",
    "plt.ylabel(\"suicides_no\")\n",
    "plt.title (\"suicide_no by age\")\n",
    "plt.show()"
   ]
  }
 ],
 "metadata": {
  "kernelspec": {
   "display_name": "Python 3 (ipykernel)",
   "language": "python",
   "name": "python3"
  },
  "language_info": {
   "codemirror_mode": {
    "name": "ipython",
    "version": 3
   },
   "file_extension": ".py",
   "mimetype": "text/x-python",
   "name": "python",
   "nbconvert_exporter": "python",
   "pygments_lexer": "ipython3",
   "version": "3.9.7"
  }
 },
 "nbformat": 4,
 "nbformat_minor": 5
}
